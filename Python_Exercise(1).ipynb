{
  "nbformat": 4,
  "nbformat_minor": 0,
  "metadata": {
    "colab": {
      "name": "Python_Exercise(1).ipynb",
      "provenance": [],
      "collapsed_sections": [],
      "include_colab_link": true
    },
    "kernelspec": {
      "name": "python3",
      "display_name": "Python 3"
    },
    "language_info": {
      "name": "python"
    }
  },
  "cells": [
    {
      "cell_type": "markdown",
      "metadata": {
        "id": "view-in-github",
        "colab_type": "text"
      },
      "source": [
        "<a href=\"https://colab.research.google.com/github/hendra789-commits/MYSKILL-EXERCISE-2/blob/main/Python_Exercise(1).ipynb\" target=\"_parent\"><img src=\"https://colab.research.google.com/assets/colab-badge.svg\" alt=\"Open In Colab\"/></a>"
      ]
    },
    {
      "cell_type": "markdown",
      "source": [
        "### Import"
      ],
      "metadata": {
        "id": "EbPr6KTINjXe"
      }
    },
    {
      "cell_type": "code",
      "execution_count": null,
      "metadata": {
        "id": "UYbkoePvNG8O"
      },
      "outputs": [],
      "source": [
        "import pandas as pd\n",
        "import io\n",
        "from google.colab import files\n",
        "\n"
      ]
    },
    {
      "cell_type": "code",
      "source": [
        "uploaded = files.upload()\n",
        "df_ecomm = pd.read_csv(io.BytesIO(uploaded['ecommerce_event.csv']))"
      ],
      "metadata": {
        "colab": {
          "resources": {
            "http://localhost:8080/nbextensions/google.colab/files.js": {
              "data": "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",
              "ok": true,
              "headers": [
                [
                  "content-type",
                  "application/javascript"
                ]
              ],
              "status": 200,
              "status_text": ""
            }
          },
          "base_uri": "https://localhost:8080/",
          "height": 74
        },
        "id": "yXk9ZWV0bySq",
        "outputId": "ea6a5271-38ab-43cb-f036-4c267a3306ca"
      },
      "execution_count": null,
      "outputs": [
        {
          "output_type": "display_data",
          "data": {
            "text/plain": [
              "<IPython.core.display.HTML object>"
            ],
            "text/html": [
              "\n",
              "     <input type=\"file\" id=\"files-0102e8af-aee0-4ebf-a929-7619fb7c2463\" name=\"files[]\" multiple disabled\n",
              "        style=\"border:none\" />\n",
              "     <output id=\"result-0102e8af-aee0-4ebf-a929-7619fb7c2463\">\n",
              "      Upload widget is only available when the cell has been executed in the\n",
              "      current browser session. Please rerun this cell to enable.\n",
              "      </output>\n",
              "      <script src=\"/nbextensions/google.colab/files.js\"></script> "
            ]
          },
          "metadata": {}
        },
        {
          "output_type": "stream",
          "name": "stdout",
          "text": [
            "Saving ecommerce_event.csv to ecommerce_event.csv\n"
          ]
        }
      ]
    },
    {
      "cell_type": "code",
      "source": [
        "uploaded_2 = files.upload()\n",
        "df_user = pd.read_csv(io.BytesIO(uploaded_2['user_profile.csv']))\n",
        "\n"
      ],
      "metadata": {
        "colab": {
          "resources": {
            "http://localhost:8080/nbextensions/google.colab/files.js": {
              "data": "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",
              "ok": true,
              "headers": [
                [
                  "content-type",
                  "application/javascript"
                ]
              ],
              "status": 200,
              "status_text": ""
            }
          },
          "base_uri": "https://localhost:8080/",
          "height": 74
        },
        "id": "Bpd9XfHgOtg7",
        "outputId": "e07e7632-82d9-4ad8-aeb0-4ed77438dcfa"
      },
      "execution_count": null,
      "outputs": [
        {
          "output_type": "display_data",
          "data": {
            "text/plain": [
              "<IPython.core.display.HTML object>"
            ],
            "text/html": [
              "\n",
              "     <input type=\"file\" id=\"files-4fb5b934-488f-49c4-bb88-e2793f1cb756\" name=\"files[]\" multiple disabled\n",
              "        style=\"border:none\" />\n",
              "     <output id=\"result-4fb5b934-488f-49c4-bb88-e2793f1cb756\">\n",
              "      Upload widget is only available when the cell has been executed in the\n",
              "      current browser session. Please rerun this cell to enable.\n",
              "      </output>\n",
              "      <script src=\"/nbextensions/google.colab/files.js\"></script> "
            ]
          },
          "metadata": {}
        },
        {
          "output_type": "stream",
          "name": "stdout",
          "text": [
            "Saving user_profile.csv to user_profile (2).csv\n"
          ]
        }
      ]
    },
    {
      "cell_type": "code",
      "source": [
        "import matplotlib.pyplot as plt\n",
        "import numpy as np"
      ],
      "metadata": {
        "id": "0tFIl-3RLTm_"
      },
      "execution_count": null,
      "outputs": []
    },
    {
      "cell_type": "markdown",
      "source": [
        "### Exercise"
      ],
      "metadata": {
        "id": "7zLaRiPvLWS2"
      }
    },
    {
      "cell_type": "code",
      "source": [
        "df_ecomm.head()"
      ],
      "metadata": {
        "colab": {
          "base_uri": "https://localhost:8080/",
          "height": 206
        },
        "id": "L-hk8uweLaPo",
        "outputId": "c38c20de-b936-4742-ed32-e9042ad72722"
      },
      "execution_count": null,
      "outputs": [
        {
          "output_type": "execute_result",
          "data": {
            "text/plain": [
              "   event_date event_type  product_id     category  subcategory   brand  \\\n",
              "0  2019-10-23       view     1600600    computers  peripherals      hp   \n",
              "1  2019-10-28       view     1004238  electronics   smartphone   apple   \n",
              "2  2019-10-31       view     1004566  electronics   smartphone  huawei   \n",
              "3  2019-10-12       view     1003310  electronics   smartphone   apple   \n",
              "4  2019-10-28       view     4804295  electronics        audio  xiaomi   \n",
              "\n",
              "     price    user_id                          user_session  \n",
              "0   148.04  548757053  7b5e86eb-6c9f-4862-b9cb-20b773d64a75  \n",
              "1  1243.79  512471699  7b21fd53-8f8d-44f7-b126-fcb63b4a34df  \n",
              "2   164.88  548430364  2e5a410f-0d20-41c9-82c1-aa1b4dcdd11d  \n",
              "3   696.13  558364479  587402bb-2083-4a8c-a874-f270e3408db1  \n",
              "4    22.86  514732843  52ae3808-c842-4fbd-97a4-ea7c862aef35  "
            ],
            "text/html": [
              "\n",
              "  <div id=\"df-7710b80e-c948-43be-9755-dc3929511236\">\n",
              "    <div class=\"colab-df-container\">\n",
              "      <div>\n",
              "<style scoped>\n",
              "    .dataframe tbody tr th:only-of-type {\n",
              "        vertical-align: middle;\n",
              "    }\n",
              "\n",
              "    .dataframe tbody tr th {\n",
              "        vertical-align: top;\n",
              "    }\n",
              "\n",
              "    .dataframe thead th {\n",
              "        text-align: right;\n",
              "    }\n",
              "</style>\n",
              "<table border=\"1\" class=\"dataframe\">\n",
              "  <thead>\n",
              "    <tr style=\"text-align: right;\">\n",
              "      <th></th>\n",
              "      <th>event_date</th>\n",
              "      <th>event_type</th>\n",
              "      <th>product_id</th>\n",
              "      <th>category</th>\n",
              "      <th>subcategory</th>\n",
              "      <th>brand</th>\n",
              "      <th>price</th>\n",
              "      <th>user_id</th>\n",
              "      <th>user_session</th>\n",
              "    </tr>\n",
              "  </thead>\n",
              "  <tbody>\n",
              "    <tr>\n",
              "      <th>0</th>\n",
              "      <td>2019-10-23</td>\n",
              "      <td>view</td>\n",
              "      <td>1600600</td>\n",
              "      <td>computers</td>\n",
              "      <td>peripherals</td>\n",
              "      <td>hp</td>\n",
              "      <td>148.04</td>\n",
              "      <td>548757053</td>\n",
              "      <td>7b5e86eb-6c9f-4862-b9cb-20b773d64a75</td>\n",
              "    </tr>\n",
              "    <tr>\n",
              "      <th>1</th>\n",
              "      <td>2019-10-28</td>\n",
              "      <td>view</td>\n",
              "      <td>1004238</td>\n",
              "      <td>electronics</td>\n",
              "      <td>smartphone</td>\n",
              "      <td>apple</td>\n",
              "      <td>1243.79</td>\n",
              "      <td>512471699</td>\n",
              "      <td>7b21fd53-8f8d-44f7-b126-fcb63b4a34df</td>\n",
              "    </tr>\n",
              "    <tr>\n",
              "      <th>2</th>\n",
              "      <td>2019-10-31</td>\n",
              "      <td>view</td>\n",
              "      <td>1004566</td>\n",
              "      <td>electronics</td>\n",
              "      <td>smartphone</td>\n",
              "      <td>huawei</td>\n",
              "      <td>164.88</td>\n",
              "      <td>548430364</td>\n",
              "      <td>2e5a410f-0d20-41c9-82c1-aa1b4dcdd11d</td>\n",
              "    </tr>\n",
              "    <tr>\n",
              "      <th>3</th>\n",
              "      <td>2019-10-12</td>\n",
              "      <td>view</td>\n",
              "      <td>1003310</td>\n",
              "      <td>electronics</td>\n",
              "      <td>smartphone</td>\n",
              "      <td>apple</td>\n",
              "      <td>696.13</td>\n",
              "      <td>558364479</td>\n",
              "      <td>587402bb-2083-4a8c-a874-f270e3408db1</td>\n",
              "    </tr>\n",
              "    <tr>\n",
              "      <th>4</th>\n",
              "      <td>2019-10-28</td>\n",
              "      <td>view</td>\n",
              "      <td>4804295</td>\n",
              "      <td>electronics</td>\n",
              "      <td>audio</td>\n",
              "      <td>xiaomi</td>\n",
              "      <td>22.86</td>\n",
              "      <td>514732843</td>\n",
              "      <td>52ae3808-c842-4fbd-97a4-ea7c862aef35</td>\n",
              "    </tr>\n",
              "  </tbody>\n",
              "</table>\n",
              "</div>\n",
              "      <button class=\"colab-df-convert\" onclick=\"convertToInteractive('df-7710b80e-c948-43be-9755-dc3929511236')\"\n",
              "              title=\"Convert this dataframe to an interactive table.\"\n",
              "              style=\"display:none;\">\n",
              "        \n",
              "  <svg xmlns=\"http://www.w3.org/2000/svg\" height=\"24px\"viewBox=\"0 0 24 24\"\n",
              "       width=\"24px\">\n",
              "    <path d=\"M0 0h24v24H0V0z\" fill=\"none\"/>\n",
              "    <path d=\"M18.56 5.44l.94 2.06.94-2.06 2.06-.94-2.06-.94-.94-2.06-.94 2.06-2.06.94zm-11 1L8.5 8.5l.94-2.06 2.06-.94-2.06-.94L8.5 2.5l-.94 2.06-2.06.94zm10 10l.94 2.06.94-2.06 2.06-.94-2.06-.94-.94-2.06-.94 2.06-2.06.94z\"/><path d=\"M17.41 7.96l-1.37-1.37c-.4-.4-.92-.59-1.43-.59-.52 0-1.04.2-1.43.59L10.3 9.45l-7.72 7.72c-.78.78-.78 2.05 0 2.83L4 21.41c.39.39.9.59 1.41.59.51 0 1.02-.2 1.41-.59l7.78-7.78 2.81-2.81c.8-.78.8-2.07 0-2.86zM5.41 20L4 18.59l7.72-7.72 1.47 1.35L5.41 20z\"/>\n",
              "  </svg>\n",
              "      </button>\n",
              "      \n",
              "  <style>\n",
              "    .colab-df-container {\n",
              "      display:flex;\n",
              "      flex-wrap:wrap;\n",
              "      gap: 12px;\n",
              "    }\n",
              "\n",
              "    .colab-df-convert {\n",
              "      background-color: #E8F0FE;\n",
              "      border: none;\n",
              "      border-radius: 50%;\n",
              "      cursor: pointer;\n",
              "      display: none;\n",
              "      fill: #1967D2;\n",
              "      height: 32px;\n",
              "      padding: 0 0 0 0;\n",
              "      width: 32px;\n",
              "    }\n",
              "\n",
              "    .colab-df-convert:hover {\n",
              "      background-color: #E2EBFA;\n",
              "      box-shadow: 0px 1px 2px rgba(60, 64, 67, 0.3), 0px 1px 3px 1px rgba(60, 64, 67, 0.15);\n",
              "      fill: #174EA6;\n",
              "    }\n",
              "\n",
              "    [theme=dark] .colab-df-convert {\n",
              "      background-color: #3B4455;\n",
              "      fill: #D2E3FC;\n",
              "    }\n",
              "\n",
              "    [theme=dark] .colab-df-convert:hover {\n",
              "      background-color: #434B5C;\n",
              "      box-shadow: 0px 1px 3px 1px rgba(0, 0, 0, 0.15);\n",
              "      filter: drop-shadow(0px 1px 2px rgba(0, 0, 0, 0.3));\n",
              "      fill: #FFFFFF;\n",
              "    }\n",
              "  </style>\n",
              "\n",
              "      <script>\n",
              "        const buttonEl =\n",
              "          document.querySelector('#df-7710b80e-c948-43be-9755-dc3929511236 button.colab-df-convert');\n",
              "        buttonEl.style.display =\n",
              "          google.colab.kernel.accessAllowed ? 'block' : 'none';\n",
              "\n",
              "        async function convertToInteractive(key) {\n",
              "          const element = document.querySelector('#df-7710b80e-c948-43be-9755-dc3929511236');\n",
              "          const dataTable =\n",
              "            await google.colab.kernel.invokeFunction('convertToInteractive',\n",
              "                                                     [key], {});\n",
              "          if (!dataTable) return;\n",
              "\n",
              "          const docLinkHtml = 'Like what you see? Visit the ' +\n",
              "            '<a target=\"_blank\" href=https://colab.research.google.com/notebooks/data_table.ipynb>data table notebook</a>'\n",
              "            + ' to learn more about interactive tables.';\n",
              "          element.innerHTML = '';\n",
              "          dataTable['output_type'] = 'display_data';\n",
              "          await google.colab.output.renderOutput(dataTable, element);\n",
              "          const docLink = document.createElement('div');\n",
              "          docLink.innerHTML = docLinkHtml;\n",
              "          element.appendChild(docLink);\n",
              "        }\n",
              "      </script>\n",
              "    </div>\n",
              "  </div>\n",
              "  "
            ]
          },
          "metadata": {},
          "execution_count": 85
        }
      ]
    },
    {
      "cell_type": "code",
      "source": [
        "df_ecomm.event_type.unique()"
      ],
      "metadata": {
        "colab": {
          "base_uri": "https://localhost:8080/"
        },
        "id": "eIo4PS7AePRu",
        "outputId": "a006a4b2-86e2-478f-c155-b1853b8c8810"
      },
      "execution_count": null,
      "outputs": [
        {
          "output_type": "execute_result",
          "data": {
            "text/plain": [
              "array(['view', 'cart', 'purchase'], dtype=object)"
            ]
          },
          "metadata": {},
          "execution_count": 86
        }
      ]
    },
    {
      "cell_type": "code",
      "source": [
        "df_user.head()"
      ],
      "metadata": {
        "colab": {
          "base_uri": "https://localhost:8080/",
          "height": 206
        },
        "id": "wzx0mVxQeJFt",
        "outputId": "26219cc0-26a6-4e23-fc31-cdf93f93194e"
      },
      "execution_count": null,
      "outputs": [
        {
          "output_type": "execute_result",
          "data": {
            "text/plain": [
              "     user_id  gender  age\n",
              "0  548757053  Female   28\n",
              "1  512471699  Female   52\n",
              "2  548430364  Female   65\n",
              "3  558364479  Female   38\n",
              "4  514732843    Male   74"
            ],
            "text/html": [
              "\n",
              "  <div id=\"df-a742dceb-e627-4f5f-a32f-1f5014b140df\">\n",
              "    <div class=\"colab-df-container\">\n",
              "      <div>\n",
              "<style scoped>\n",
              "    .dataframe tbody tr th:only-of-type {\n",
              "        vertical-align: middle;\n",
              "    }\n",
              "\n",
              "    .dataframe tbody tr th {\n",
              "        vertical-align: top;\n",
              "    }\n",
              "\n",
              "    .dataframe thead th {\n",
              "        text-align: right;\n",
              "    }\n",
              "</style>\n",
              "<table border=\"1\" class=\"dataframe\">\n",
              "  <thead>\n",
              "    <tr style=\"text-align: right;\">\n",
              "      <th></th>\n",
              "      <th>user_id</th>\n",
              "      <th>gender</th>\n",
              "      <th>age</th>\n",
              "    </tr>\n",
              "  </thead>\n",
              "  <tbody>\n",
              "    <tr>\n",
              "      <th>0</th>\n",
              "      <td>548757053</td>\n",
              "      <td>Female</td>\n",
              "      <td>28</td>\n",
              "    </tr>\n",
              "    <tr>\n",
              "      <th>1</th>\n",
              "      <td>512471699</td>\n",
              "      <td>Female</td>\n",
              "      <td>52</td>\n",
              "    </tr>\n",
              "    <tr>\n",
              "      <th>2</th>\n",
              "      <td>548430364</td>\n",
              "      <td>Female</td>\n",
              "      <td>65</td>\n",
              "    </tr>\n",
              "    <tr>\n",
              "      <th>3</th>\n",
              "      <td>558364479</td>\n",
              "      <td>Female</td>\n",
              "      <td>38</td>\n",
              "    </tr>\n",
              "    <tr>\n",
              "      <th>4</th>\n",
              "      <td>514732843</td>\n",
              "      <td>Male</td>\n",
              "      <td>74</td>\n",
              "    </tr>\n",
              "  </tbody>\n",
              "</table>\n",
              "</div>\n",
              "      <button class=\"colab-df-convert\" onclick=\"convertToInteractive('df-a742dceb-e627-4f5f-a32f-1f5014b140df')\"\n",
              "              title=\"Convert this dataframe to an interactive table.\"\n",
              "              style=\"display:none;\">\n",
              "        \n",
              "  <svg xmlns=\"http://www.w3.org/2000/svg\" height=\"24px\"viewBox=\"0 0 24 24\"\n",
              "       width=\"24px\">\n",
              "    <path d=\"M0 0h24v24H0V0z\" fill=\"none\"/>\n",
              "    <path d=\"M18.56 5.44l.94 2.06.94-2.06 2.06-.94-2.06-.94-.94-2.06-.94 2.06-2.06.94zm-11 1L8.5 8.5l.94-2.06 2.06-.94-2.06-.94L8.5 2.5l-.94 2.06-2.06.94zm10 10l.94 2.06.94-2.06 2.06-.94-2.06-.94-.94-2.06-.94 2.06-2.06.94z\"/><path d=\"M17.41 7.96l-1.37-1.37c-.4-.4-.92-.59-1.43-.59-.52 0-1.04.2-1.43.59L10.3 9.45l-7.72 7.72c-.78.78-.78 2.05 0 2.83L4 21.41c.39.39.9.59 1.41.59.51 0 1.02-.2 1.41-.59l7.78-7.78 2.81-2.81c.8-.78.8-2.07 0-2.86zM5.41 20L4 18.59l7.72-7.72 1.47 1.35L5.41 20z\"/>\n",
              "  </svg>\n",
              "      </button>\n",
              "      \n",
              "  <style>\n",
              "    .colab-df-container {\n",
              "      display:flex;\n",
              "      flex-wrap:wrap;\n",
              "      gap: 12px;\n",
              "    }\n",
              "\n",
              "    .colab-df-convert {\n",
              "      background-color: #E8F0FE;\n",
              "      border: none;\n",
              "      border-radius: 50%;\n",
              "      cursor: pointer;\n",
              "      display: none;\n",
              "      fill: #1967D2;\n",
              "      height: 32px;\n",
              "      padding: 0 0 0 0;\n",
              "      width: 32px;\n",
              "    }\n",
              "\n",
              "    .colab-df-convert:hover {\n",
              "      background-color: #E2EBFA;\n",
              "      box-shadow: 0px 1px 2px rgba(60, 64, 67, 0.3), 0px 1px 3px 1px rgba(60, 64, 67, 0.15);\n",
              "      fill: #174EA6;\n",
              "    }\n",
              "\n",
              "    [theme=dark] .colab-df-convert {\n",
              "      background-color: #3B4455;\n",
              "      fill: #D2E3FC;\n",
              "    }\n",
              "\n",
              "    [theme=dark] .colab-df-convert:hover {\n",
              "      background-color: #434B5C;\n",
              "      box-shadow: 0px 1px 3px 1px rgba(0, 0, 0, 0.15);\n",
              "      filter: drop-shadow(0px 1px 2px rgba(0, 0, 0, 0.3));\n",
              "      fill: #FFFFFF;\n",
              "    }\n",
              "  </style>\n",
              "\n",
              "      <script>\n",
              "        const buttonEl =\n",
              "          document.querySelector('#df-a742dceb-e627-4f5f-a32f-1f5014b140df button.colab-df-convert');\n",
              "        buttonEl.style.display =\n",
              "          google.colab.kernel.accessAllowed ? 'block' : 'none';\n",
              "\n",
              "        async function convertToInteractive(key) {\n",
              "          const element = document.querySelector('#df-a742dceb-e627-4f5f-a32f-1f5014b140df');\n",
              "          const dataTable =\n",
              "            await google.colab.kernel.invokeFunction('convertToInteractive',\n",
              "                                                     [key], {});\n",
              "          if (!dataTable) return;\n",
              "\n",
              "          const docLinkHtml = 'Like what you see? Visit the ' +\n",
              "            '<a target=\"_blank\" href=https://colab.research.google.com/notebooks/data_table.ipynb>data table notebook</a>'\n",
              "            + ' to learn more about interactive tables.';\n",
              "          element.innerHTML = '';\n",
              "          dataTable['output_type'] = 'display_data';\n",
              "          await google.colab.output.renderOutput(dataTable, element);\n",
              "          const docLink = document.createElement('div');\n",
              "          docLink.innerHTML = docLinkHtml;\n",
              "          element.appendChild(docLink);\n",
              "        }\n",
              "      </script>\n",
              "    </div>\n",
              "  </div>\n",
              "  "
            ]
          },
          "metadata": {},
          "execution_count": 87
        }
      ]
    },
    {
      "cell_type": "markdown",
      "source": [
        "#### No 1 ![image.png](data:image/png;base64,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)"
      ],
      "metadata": {
        "id": "P4A1f4uzTNrj"
      }
    },
    {
      "cell_type": "markdown",
      "source": [
        "1. filter purchase\n",
        "2. aggregate revenue untuk tiap kategori\n",
        "3. sorting berdasarkan nilai paling tinggi\n",
        "4. tentukan visualisasi yang tepat"
      ],
      "metadata": {
        "id": "Liej6eOahg-w"
      }
    },
    {
      "cell_type": "code",
      "source": [
        "#no 1\n",
        "df_ecomm_filter =df_ecomm.loc[df_ecomm['event_type'] == 'purchase']\n",
        "df_ecomm_agg = df_ecomm_filter.groupby('category', as_index = False).agg(revenue = ('price', 'sum'))\n",
        "df_ecomm_sort =df_ecomm_agg.sort_values('revenue', ascending= False)"
      ],
      "metadata": {
        "id": "GL9SK7JLRckf"
      },
      "execution_count": null,
      "outputs": []
    },
    {
      "cell_type": "code",
      "source": [
        "df_ecomm_agg = df_ecomm_filter.groupby('category', as_index = False).agg(revenue = ('price', 'sum'))\n",
        "df_ecomm_agg.head()"
      ],
      "metadata": {
        "colab": {
          "base_uri": "https://localhost:8080/",
          "height": 206
        },
        "id": "7TR-mXDvCZ4O",
        "outputId": "95e560f0-2b08-461c-8993-7324fbaff4d1"
      },
      "execution_count": null,
      "outputs": [
        {
          "output_type": "execute_result",
          "data": {
            "text/plain": [
              "       category   revenue\n",
              "0       apparel    458.19\n",
              "1    appliances  10406.17\n",
              "2          auto    406.87\n",
              "3     computers   4947.25\n",
              "4  construction    455.49"
            ],
            "text/html": [
              "\n",
              "  <div id=\"df-7fe5aefc-3935-4d0d-bb18-22c97a62dedb\">\n",
              "    <div class=\"colab-df-container\">\n",
              "      <div>\n",
              "<style scoped>\n",
              "    .dataframe tbody tr th:only-of-type {\n",
              "        vertical-align: middle;\n",
              "    }\n",
              "\n",
              "    .dataframe tbody tr th {\n",
              "        vertical-align: top;\n",
              "    }\n",
              "\n",
              "    .dataframe thead th {\n",
              "        text-align: right;\n",
              "    }\n",
              "</style>\n",
              "<table border=\"1\" class=\"dataframe\">\n",
              "  <thead>\n",
              "    <tr style=\"text-align: right;\">\n",
              "      <th></th>\n",
              "      <th>category</th>\n",
              "      <th>revenue</th>\n",
              "    </tr>\n",
              "  </thead>\n",
              "  <tbody>\n",
              "    <tr>\n",
              "      <th>0</th>\n",
              "      <td>apparel</td>\n",
              "      <td>458.19</td>\n",
              "    </tr>\n",
              "    <tr>\n",
              "      <th>1</th>\n",
              "      <td>appliances</td>\n",
              "      <td>10406.17</td>\n",
              "    </tr>\n",
              "    <tr>\n",
              "      <th>2</th>\n",
              "      <td>auto</td>\n",
              "      <td>406.87</td>\n",
              "    </tr>\n",
              "    <tr>\n",
              "      <th>3</th>\n",
              "      <td>computers</td>\n",
              "      <td>4947.25</td>\n",
              "    </tr>\n",
              "    <tr>\n",
              "      <th>4</th>\n",
              "      <td>construction</td>\n",
              "      <td>455.49</td>\n",
              "    </tr>\n",
              "  </tbody>\n",
              "</table>\n",
              "</div>\n",
              "      <button class=\"colab-df-convert\" onclick=\"convertToInteractive('df-7fe5aefc-3935-4d0d-bb18-22c97a62dedb')\"\n",
              "              title=\"Convert this dataframe to an interactive table.\"\n",
              "              style=\"display:none;\">\n",
              "        \n",
              "  <svg xmlns=\"http://www.w3.org/2000/svg\" height=\"24px\"viewBox=\"0 0 24 24\"\n",
              "       width=\"24px\">\n",
              "    <path d=\"M0 0h24v24H0V0z\" fill=\"none\"/>\n",
              "    <path d=\"M18.56 5.44l.94 2.06.94-2.06 2.06-.94-2.06-.94-.94-2.06-.94 2.06-2.06.94zm-11 1L8.5 8.5l.94-2.06 2.06-.94-2.06-.94L8.5 2.5l-.94 2.06-2.06.94zm10 10l.94 2.06.94-2.06 2.06-.94-2.06-.94-.94-2.06-.94 2.06-2.06.94z\"/><path d=\"M17.41 7.96l-1.37-1.37c-.4-.4-.92-.59-1.43-.59-.52 0-1.04.2-1.43.59L10.3 9.45l-7.72 7.72c-.78.78-.78 2.05 0 2.83L4 21.41c.39.39.9.59 1.41.59.51 0 1.02-.2 1.41-.59l7.78-7.78 2.81-2.81c.8-.78.8-2.07 0-2.86zM5.41 20L4 18.59l7.72-7.72 1.47 1.35L5.41 20z\"/>\n",
              "  </svg>\n",
              "      </button>\n",
              "      \n",
              "  <style>\n",
              "    .colab-df-container {\n",
              "      display:flex;\n",
              "      flex-wrap:wrap;\n",
              "      gap: 12px;\n",
              "    }\n",
              "\n",
              "    .colab-df-convert {\n",
              "      background-color: #E8F0FE;\n",
              "      border: none;\n",
              "      border-radius: 50%;\n",
              "      cursor: pointer;\n",
              "      display: none;\n",
              "      fill: #1967D2;\n",
              "      height: 32px;\n",
              "      padding: 0 0 0 0;\n",
              "      width: 32px;\n",
              "    }\n",
              "\n",
              "    .colab-df-convert:hover {\n",
              "      background-color: #E2EBFA;\n",
              "      box-shadow: 0px 1px 2px rgba(60, 64, 67, 0.3), 0px 1px 3px 1px rgba(60, 64, 67, 0.15);\n",
              "      fill: #174EA6;\n",
              "    }\n",
              "\n",
              "    [theme=dark] .colab-df-convert {\n",
              "      background-color: #3B4455;\n",
              "      fill: #D2E3FC;\n",
              "    }\n",
              "\n",
              "    [theme=dark] .colab-df-convert:hover {\n",
              "      background-color: #434B5C;\n",
              "      box-shadow: 0px 1px 3px 1px rgba(0, 0, 0, 0.15);\n",
              "      filter: drop-shadow(0px 1px 2px rgba(0, 0, 0, 0.3));\n",
              "      fill: #FFFFFF;\n",
              "    }\n",
              "  </style>\n",
              "\n",
              "      <script>\n",
              "        const buttonEl =\n",
              "          document.querySelector('#df-7fe5aefc-3935-4d0d-bb18-22c97a62dedb button.colab-df-convert');\n",
              "        buttonEl.style.display =\n",
              "          google.colab.kernel.accessAllowed ? 'block' : 'none';\n",
              "\n",
              "        async function convertToInteractive(key) {\n",
              "          const element = document.querySelector('#df-7fe5aefc-3935-4d0d-bb18-22c97a62dedb');\n",
              "          const dataTable =\n",
              "            await google.colab.kernel.invokeFunction('convertToInteractive',\n",
              "                                                     [key], {});\n",
              "          if (!dataTable) return;\n",
              "\n",
              "          const docLinkHtml = 'Like what you see? Visit the ' +\n",
              "            '<a target=\"_blank\" href=https://colab.research.google.com/notebooks/data_table.ipynb>data table notebook</a>'\n",
              "            + ' to learn more about interactive tables.';\n",
              "          element.innerHTML = '';\n",
              "          dataTable['output_type'] = 'display_data';\n",
              "          await google.colab.output.renderOutput(dataTable, element);\n",
              "          const docLink = document.createElement('div');\n",
              "          docLink.innerHTML = docLinkHtml;\n",
              "          element.appendChild(docLink);\n",
              "        }\n",
              "      </script>\n",
              "    </div>\n",
              "  </div>\n",
              "  "
            ]
          },
          "metadata": {},
          "execution_count": 91
        }
      ]
    },
    {
      "cell_type": "code",
      "source": [
        "df_ecomm_sort.head()"
      ],
      "metadata": {
        "colab": {
          "base_uri": "https://localhost:8080/",
          "height": 206
        },
        "id": "VlwQLPbWp21s",
        "outputId": "e884261c-ec4c-4f3d-ab61-cd98e1c844e8"
      },
      "execution_count": null,
      "outputs": [
        {
          "output_type": "execute_result",
          "data": {
            "text/plain": [
              "      category    revenue\n",
              "5  electronics  130933.02\n",
              "1   appliances   10406.17\n",
              "3    computers    4947.25\n",
              "6    furniture     549.20\n",
              "8        sport     478.52"
            ],
            "text/html": [
              "\n",
              "  <div id=\"df-4da8534d-202e-4456-8d50-217d51ab137e\">\n",
              "    <div class=\"colab-df-container\">\n",
              "      <div>\n",
              "<style scoped>\n",
              "    .dataframe tbody tr th:only-of-type {\n",
              "        vertical-align: middle;\n",
              "    }\n",
              "\n",
              "    .dataframe tbody tr th {\n",
              "        vertical-align: top;\n",
              "    }\n",
              "\n",
              "    .dataframe thead th {\n",
              "        text-align: right;\n",
              "    }\n",
              "</style>\n",
              "<table border=\"1\" class=\"dataframe\">\n",
              "  <thead>\n",
              "    <tr style=\"text-align: right;\">\n",
              "      <th></th>\n",
              "      <th>category</th>\n",
              "      <th>revenue</th>\n",
              "    </tr>\n",
              "  </thead>\n",
              "  <tbody>\n",
              "    <tr>\n",
              "      <th>5</th>\n",
              "      <td>electronics</td>\n",
              "      <td>130933.02</td>\n",
              "    </tr>\n",
              "    <tr>\n",
              "      <th>1</th>\n",
              "      <td>appliances</td>\n",
              "      <td>10406.17</td>\n",
              "    </tr>\n",
              "    <tr>\n",
              "      <th>3</th>\n",
              "      <td>computers</td>\n",
              "      <td>4947.25</td>\n",
              "    </tr>\n",
              "    <tr>\n",
              "      <th>6</th>\n",
              "      <td>furniture</td>\n",
              "      <td>549.20</td>\n",
              "    </tr>\n",
              "    <tr>\n",
              "      <th>8</th>\n",
              "      <td>sport</td>\n",
              "      <td>478.52</td>\n",
              "    </tr>\n",
              "  </tbody>\n",
              "</table>\n",
              "</div>\n",
              "      <button class=\"colab-df-convert\" onclick=\"convertToInteractive('df-4da8534d-202e-4456-8d50-217d51ab137e')\"\n",
              "              title=\"Convert this dataframe to an interactive table.\"\n",
              "              style=\"display:none;\">\n",
              "        \n",
              "  <svg xmlns=\"http://www.w3.org/2000/svg\" height=\"24px\"viewBox=\"0 0 24 24\"\n",
              "       width=\"24px\">\n",
              "    <path d=\"M0 0h24v24H0V0z\" fill=\"none\"/>\n",
              "    <path d=\"M18.56 5.44l.94 2.06.94-2.06 2.06-.94-2.06-.94-.94-2.06-.94 2.06-2.06.94zm-11 1L8.5 8.5l.94-2.06 2.06-.94-2.06-.94L8.5 2.5l-.94 2.06-2.06.94zm10 10l.94 2.06.94-2.06 2.06-.94-2.06-.94-.94-2.06-.94 2.06-2.06.94z\"/><path d=\"M17.41 7.96l-1.37-1.37c-.4-.4-.92-.59-1.43-.59-.52 0-1.04.2-1.43.59L10.3 9.45l-7.72 7.72c-.78.78-.78 2.05 0 2.83L4 21.41c.39.39.9.59 1.41.59.51 0 1.02-.2 1.41-.59l7.78-7.78 2.81-2.81c.8-.78.8-2.07 0-2.86zM5.41 20L4 18.59l7.72-7.72 1.47 1.35L5.41 20z\"/>\n",
              "  </svg>\n",
              "      </button>\n",
              "      \n",
              "  <style>\n",
              "    .colab-df-container {\n",
              "      display:flex;\n",
              "      flex-wrap:wrap;\n",
              "      gap: 12px;\n",
              "    }\n",
              "\n",
              "    .colab-df-convert {\n",
              "      background-color: #E8F0FE;\n",
              "      border: none;\n",
              "      border-radius: 50%;\n",
              "      cursor: pointer;\n",
              "      display: none;\n",
              "      fill: #1967D2;\n",
              "      height: 32px;\n",
              "      padding: 0 0 0 0;\n",
              "      width: 32px;\n",
              "    }\n",
              "\n",
              "    .colab-df-convert:hover {\n",
              "      background-color: #E2EBFA;\n",
              "      box-shadow: 0px 1px 2px rgba(60, 64, 67, 0.3), 0px 1px 3px 1px rgba(60, 64, 67, 0.15);\n",
              "      fill: #174EA6;\n",
              "    }\n",
              "\n",
              "    [theme=dark] .colab-df-convert {\n",
              "      background-color: #3B4455;\n",
              "      fill: #D2E3FC;\n",
              "    }\n",
              "\n",
              "    [theme=dark] .colab-df-convert:hover {\n",
              "      background-color: #434B5C;\n",
              "      box-shadow: 0px 1px 3px 1px rgba(0, 0, 0, 0.15);\n",
              "      filter: drop-shadow(0px 1px 2px rgba(0, 0, 0, 0.3));\n",
              "      fill: #FFFFFF;\n",
              "    }\n",
              "  </style>\n",
              "\n",
              "      <script>\n",
              "        const buttonEl =\n",
              "          document.querySelector('#df-4da8534d-202e-4456-8d50-217d51ab137e button.colab-df-convert');\n",
              "        buttonEl.style.display =\n",
              "          google.colab.kernel.accessAllowed ? 'block' : 'none';\n",
              "\n",
              "        async function convertToInteractive(key) {\n",
              "          const element = document.querySelector('#df-4da8534d-202e-4456-8d50-217d51ab137e');\n",
              "          const dataTable =\n",
              "            await google.colab.kernel.invokeFunction('convertToInteractive',\n",
              "                                                     [key], {});\n",
              "          if (!dataTable) return;\n",
              "\n",
              "          const docLinkHtml = 'Like what you see? Visit the ' +\n",
              "            '<a target=\"_blank\" href=https://colab.research.google.com/notebooks/data_table.ipynb>data table notebook</a>'\n",
              "            + ' to learn more about interactive tables.';\n",
              "          element.innerHTML = '';\n",
              "          dataTable['output_type'] = 'display_data';\n",
              "          await google.colab.output.renderOutput(dataTable, element);\n",
              "          const docLink = document.createElement('div');\n",
              "          docLink.innerHTML = docLinkHtml;\n",
              "          element.appendChild(docLink);\n",
              "        }\n",
              "      </script>\n",
              "    </div>\n",
              "  </div>\n",
              "  "
            ]
          },
          "metadata": {},
          "execution_count": 95
        }
      ]
    },
    {
      "cell_type": "code",
      "source": [
        "#no 1 cara lain untuk generate table yang dibutuhkan\n",
        "df_ecomm_cat =df_ecomm.loc[df_ecomm['event_type'] == 'purchase'].groupby('category', as_index = False).agg(revenue = ('price', 'sum')).sort_values('revenue', ascending= False)"
      ],
      "metadata": {
        "id": "aVx57cUFpfrp"
      },
      "execution_count": null,
      "outputs": []
    },
    {
      "cell_type": "code",
      "source": [
        "df_ecomm_cat.head()"
      ],
      "metadata": {
        "colab": {
          "base_uri": "https://localhost:8080/",
          "height": 206
        },
        "id": "QMI0rd9ZEcck",
        "outputId": "2691735f-676a-4500-8a6a-60db921312d5"
      },
      "execution_count": null,
      "outputs": [
        {
          "output_type": "execute_result",
          "data": {
            "text/plain": [
              "      category    revenue\n",
              "5  electronics  130933.02\n",
              "1   appliances   10406.17\n",
              "3    computers    4947.25\n",
              "6    furniture     549.20\n",
              "8        sport     478.52"
            ],
            "text/html": [
              "\n",
              "  <div id=\"df-8a769e20-bc87-40a2-80bf-4a1e838031a2\">\n",
              "    <div class=\"colab-df-container\">\n",
              "      <div>\n",
              "<style scoped>\n",
              "    .dataframe tbody tr th:only-of-type {\n",
              "        vertical-align: middle;\n",
              "    }\n",
              "\n",
              "    .dataframe tbody tr th {\n",
              "        vertical-align: top;\n",
              "    }\n",
              "\n",
              "    .dataframe thead th {\n",
              "        text-align: right;\n",
              "    }\n",
              "</style>\n",
              "<table border=\"1\" class=\"dataframe\">\n",
              "  <thead>\n",
              "    <tr style=\"text-align: right;\">\n",
              "      <th></th>\n",
              "      <th>category</th>\n",
              "      <th>revenue</th>\n",
              "    </tr>\n",
              "  </thead>\n",
              "  <tbody>\n",
              "    <tr>\n",
              "      <th>5</th>\n",
              "      <td>electronics</td>\n",
              "      <td>130933.02</td>\n",
              "    </tr>\n",
              "    <tr>\n",
              "      <th>1</th>\n",
              "      <td>appliances</td>\n",
              "      <td>10406.17</td>\n",
              "    </tr>\n",
              "    <tr>\n",
              "      <th>3</th>\n",
              "      <td>computers</td>\n",
              "      <td>4947.25</td>\n",
              "    </tr>\n",
              "    <tr>\n",
              "      <th>6</th>\n",
              "      <td>furniture</td>\n",
              "      <td>549.20</td>\n",
              "    </tr>\n",
              "    <tr>\n",
              "      <th>8</th>\n",
              "      <td>sport</td>\n",
              "      <td>478.52</td>\n",
              "    </tr>\n",
              "  </tbody>\n",
              "</table>\n",
              "</div>\n",
              "      <button class=\"colab-df-convert\" onclick=\"convertToInteractive('df-8a769e20-bc87-40a2-80bf-4a1e838031a2')\"\n",
              "              title=\"Convert this dataframe to an interactive table.\"\n",
              "              style=\"display:none;\">\n",
              "        \n",
              "  <svg xmlns=\"http://www.w3.org/2000/svg\" height=\"24px\"viewBox=\"0 0 24 24\"\n",
              "       width=\"24px\">\n",
              "    <path d=\"M0 0h24v24H0V0z\" fill=\"none\"/>\n",
              "    <path d=\"M18.56 5.44l.94 2.06.94-2.06 2.06-.94-2.06-.94-.94-2.06-.94 2.06-2.06.94zm-11 1L8.5 8.5l.94-2.06 2.06-.94-2.06-.94L8.5 2.5l-.94 2.06-2.06.94zm10 10l.94 2.06.94-2.06 2.06-.94-2.06-.94-.94-2.06-.94 2.06-2.06.94z\"/><path d=\"M17.41 7.96l-1.37-1.37c-.4-.4-.92-.59-1.43-.59-.52 0-1.04.2-1.43.59L10.3 9.45l-7.72 7.72c-.78.78-.78 2.05 0 2.83L4 21.41c.39.39.9.59 1.41.59.51 0 1.02-.2 1.41-.59l7.78-7.78 2.81-2.81c.8-.78.8-2.07 0-2.86zM5.41 20L4 18.59l7.72-7.72 1.47 1.35L5.41 20z\"/>\n",
              "  </svg>\n",
              "      </button>\n",
              "      \n",
              "  <style>\n",
              "    .colab-df-container {\n",
              "      display:flex;\n",
              "      flex-wrap:wrap;\n",
              "      gap: 12px;\n",
              "    }\n",
              "\n",
              "    .colab-df-convert {\n",
              "      background-color: #E8F0FE;\n",
              "      border: none;\n",
              "      border-radius: 50%;\n",
              "      cursor: pointer;\n",
              "      display: none;\n",
              "      fill: #1967D2;\n",
              "      height: 32px;\n",
              "      padding: 0 0 0 0;\n",
              "      width: 32px;\n",
              "    }\n",
              "\n",
              "    .colab-df-convert:hover {\n",
              "      background-color: #E2EBFA;\n",
              "      box-shadow: 0px 1px 2px rgba(60, 64, 67, 0.3), 0px 1px 3px 1px rgba(60, 64, 67, 0.15);\n",
              "      fill: #174EA6;\n",
              "    }\n",
              "\n",
              "    [theme=dark] .colab-df-convert {\n",
              "      background-color: #3B4455;\n",
              "      fill: #D2E3FC;\n",
              "    }\n",
              "\n",
              "    [theme=dark] .colab-df-convert:hover {\n",
              "      background-color: #434B5C;\n",
              "      box-shadow: 0px 1px 3px 1px rgba(0, 0, 0, 0.15);\n",
              "      filter: drop-shadow(0px 1px 2px rgba(0, 0, 0, 0.3));\n",
              "      fill: #FFFFFF;\n",
              "    }\n",
              "  </style>\n",
              "\n",
              "      <script>\n",
              "        const buttonEl =\n",
              "          document.querySelector('#df-8a769e20-bc87-40a2-80bf-4a1e838031a2 button.colab-df-convert');\n",
              "        buttonEl.style.display =\n",
              "          google.colab.kernel.accessAllowed ? 'block' : 'none';\n",
              "\n",
              "        async function convertToInteractive(key) {\n",
              "          const element = document.querySelector('#df-8a769e20-bc87-40a2-80bf-4a1e838031a2');\n",
              "          const dataTable =\n",
              "            await google.colab.kernel.invokeFunction('convertToInteractive',\n",
              "                                                     [key], {});\n",
              "          if (!dataTable) return;\n",
              "\n",
              "          const docLinkHtml = 'Like what you see? Visit the ' +\n",
              "            '<a target=\"_blank\" href=https://colab.research.google.com/notebooks/data_table.ipynb>data table notebook</a>'\n",
              "            + ' to learn more about interactive tables.';\n",
              "          element.innerHTML = '';\n",
              "          dataTable['output_type'] = 'display_data';\n",
              "          await google.colab.output.renderOutput(dataTable, element);\n",
              "          const docLink = document.createElement('div');\n",
              "          docLink.innerHTML = docLinkHtml;\n",
              "          element.appendChild(docLink);\n",
              "        }\n",
              "      </script>\n",
              "    </div>\n",
              "  </div>\n",
              "  "
            ]
          },
          "metadata": {},
          "execution_count": 94
        }
      ]
    },
    {
      "cell_type": "code",
      "source": [
        "plt.figure(figsize=(10, 5))\n",
        "plt.bar(df_ecomm_sort['category'], df_ecomm_sort['revenue']) \n",
        "plt.xlabel('category')\n",
        "plt.ylabel('revenue')\n",
        "plt.title('revenue by category')"
      ],
      "metadata": {
        "colab": {
          "base_uri": "https://localhost:8080/",
          "height": 367
        },
        "id": "ETu7gDkhe_Em",
        "outputId": "12c3a1a8-fa99-49ad-db74-e196aa18f4e2"
      },
      "execution_count": null,
      "outputs": [
        {
          "output_type": "execute_result",
          "data": {
            "text/plain": [
              "Text(0.5, 1.0, 'revenue by category')"
            ]
          },
          "metadata": {},
          "execution_count": 103
        },
        {
          "output_type": "display_data",
          "data": {
            "text/plain": [
              "<Figure size 720x360 with 1 Axes>"
            ],
            "image/png": "[encoded data removed]"
          },
          "metadata": {
            "needs_background": "light"
          }
        }
      ]
    },
    {
      "cell_type": "code",
      "source": [
        "# cara lain\n",
        "fig, ax = plt.subplots(figsize=(10, 5)) \n",
        "ax.bar(df_ecomm_cat['category'], df_ecomm_cat['revenue'])  \n",
        "\n",
        "ax.set_xlabel('category')  \n",
        "ax.set_ylabel('revenue')  \n",
        "ax.set_title(\"Revenue per Category\") \n"
      ],
      "metadata": {
        "colab": {
          "base_uri": "https://localhost:8080/",
          "height": 367
        },
        "id": "2-y0aNkbSHKn",
        "outputId": "db83eea8-0c27-4b8a-e786-8c9c3170d696"
      },
      "execution_count": null,
      "outputs": [
        {
          "output_type": "execute_result",
          "data": {
            "text/plain": [
              "Text(0.5, 1.0, 'Revenue per Category')"
            ]
          },
          "metadata": {},
          "execution_count": 99
        },
        {
          "output_type": "display_data",
          "data": {
            "text/plain": [
              "<Figure size 720x360 with 1 Axes>"
            ],
            "image/png": "[encoded data removed]"
          },
          "metadata": {
            "needs_background": "light"
          }
        }
      ]
    },
    {
      "cell_type": "code",
      "source": [
        "plt.figure(figsize=(10, 10))\n",
        "plt.pie( df_ecomm_cat['revenue'], labels= df_ecomm_cat['category']) "
      ],
      "metadata": {
        "colab": {
          "base_uri": "https://localhost:8080/",
          "height": 887
        },
        "id": "yLaV3xs6mjmk",
        "outputId": "9f6af49b-8c2b-42ad-d090-ec8875eb3b52"
      },
      "execution_count": null,
      "outputs": [
        {
          "output_type": "execute_result",
          "data": {
            "text/plain": [
              "([<matplotlib.patches.Wedge at 0x7f68f749a890>,\n",
              "  <matplotlib.patches.Wedge at 0x7f68f749ac10>,\n",
              "  <matplotlib.patches.Wedge at 0x7f68f7427290>,\n",
              "  <matplotlib.patches.Wedge at 0x7f68f7427350>,\n",
              "  <matplotlib.patches.Wedge at 0x7f68f74311d0>,\n",
              "  <matplotlib.patches.Wedge at 0x7f68f7431810>,\n",
              "  <matplotlib.patches.Wedge at 0x7f68f7431550>,\n",
              "  <matplotlib.patches.Wedge at 0x7f68f743a110>,\n",
              "  <matplotlib.patches.Wedge at 0x7f68f7427910>],\n",
              " [Text(-1.0231100382538316, 0.4040369409153618, 'electronics'),\n",
              "  Text(0.9477335976537502, -0.5583914647254915, 'appliances'),\n",
              "  Text(1.0762574503154034, -0.22731014196596447, 'computers'),\n",
              "  Text(1.0953427361805965, -0.10111523276146003, 'furniture'),\n",
              "  Text(1.0972794095842908, -0.07731686298829046, 'sport'),\n",
              "  Text(1.0985942442790237, -0.05559394244880054, 'apparel'),\n",
              "  Text(1.0994624757792688, -0.03438407121503735, 'construction'),\n",
              "  Text(1.099906347329917, -0.014353644253639055, 'auto'),\n",
              "  Text(1.0999972707471726, -0.0024503772712701904, 'kids')])"
            ]
          },
          "metadata": {},
          "execution_count": 43
        },
        {
          "output_type": "display_data",
          "data": {
            "text/plain": [
              "<Figure size 720x720 with 1 Axes>"
            ],
            "image/png": "[encoded data removed]"
          },
          "metadata": {}
        }
      ]
    },
    {
      "cell_type": "markdown",
      "source": [
        "#### No2 ![image.png](data:image/png;base64,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)"
      ],
      "metadata": {
        "id": "tYZftt4zTR8M"
      }
    },
    {
      "cell_type": "markdown",
      "source": [
        "1. filter purchase\n",
        "2. filter sub kategori smartphone\n",
        "3. aggregate revenue berdasarkan brand"
      ],
      "metadata": {
        "id": "Jw3vil_LqmWA"
      }
    },
    {
      "cell_type": "code",
      "source": [
        "df_ecomm.head()"
      ],
      "metadata": {
        "colab": {
          "base_uri": "https://localhost:8080/",
          "height": 206
        },
        "id": "2iwVni-UGR56",
        "outputId": "2311f799-2b02-4548-f90e-48da7e9d399b"
      },
      "execution_count": null,
      "outputs": [
        {
          "output_type": "execute_result",
          "data": {
            "text/plain": [
              "   event_date event_type  product_id     category  subcategory   brand  \\\n",
              "0  2019-10-23       view     1600600    computers  peripherals      hp   \n",
              "1  2019-10-28       view     1004238  electronics   smartphone   apple   \n",
              "2  2019-10-31       view     1004566  electronics   smartphone  huawei   \n",
              "3  2019-10-12       view     1003310  electronics   smartphone   apple   \n",
              "4  2019-10-28       view     4804295  electronics        audio  xiaomi   \n",
              "\n",
              "     price    user_id                          user_session  \n",
              "0   148.04  548757053  7b5e86eb-6c9f-4862-b9cb-20b773d64a75  \n",
              "1  1243.79  512471699  7b21fd53-8f8d-44f7-b126-fcb63b4a34df  \n",
              "2   164.88  548430364  2e5a410f-0d20-41c9-82c1-aa1b4dcdd11d  \n",
              "3   696.13  558364479  587402bb-2083-4a8c-a874-f270e3408db1  \n",
              "4    22.86  514732843  52ae3808-c842-4fbd-97a4-ea7c862aef35  "
            ],
            "text/html": [
              "\n",
              "  <div id=\"df-ba9ca189-cd3f-4410-8c2c-3cddb8b54f52\">\n",
              "    <div class=\"colab-df-container\">\n",
              "      <div>\n",
              "<style scoped>\n",
              "    .dataframe tbody tr th:only-of-type {\n",
              "        vertical-align: middle;\n",
              "    }\n",
              "\n",
              "    .dataframe tbody tr th {\n",
              "        vertical-align: top;\n",
              "    }\n",
              "\n",
              "    .dataframe thead th {\n",
              "        text-align: right;\n",
              "    }\n",
              "</style>\n",
              "<table border=\"1\" class=\"dataframe\">\n",
              "  <thead>\n",
              "    <tr style=\"text-align: right;\">\n",
              "      <th></th>\n",
              "      <th>event_date</th>\n",
              "      <th>event_type</th>\n",
              "      <th>product_id</th>\n",
              "      <th>category</th>\n",
              "      <th>subcategory</th>\n",
              "      <th>brand</th>\n",
              "      <th>price</th>\n",
              "      <th>user_id</th>\n",
              "      <th>user_session</th>\n",
              "    </tr>\n",
              "  </thead>\n",
              "  <tbody>\n",
              "    <tr>\n",
              "      <th>0</th>\n",
              "      <td>2019-10-23</td>\n",
              "      <td>view</td>\n",
              "      <td>1600600</td>\n",
              "      <td>computers</td>\n",
              "      <td>peripherals</td>\n",
              "      <td>hp</td>\n",
              "      <td>148.04</td>\n",
              "      <td>548757053</td>\n",
              "      <td>7b5e86eb-6c9f-4862-b9cb-20b773d64a75</td>\n",
              "    </tr>\n",
              "    <tr>\n",
              "      <th>1</th>\n",
              "      <td>2019-10-28</td>\n",
              "      <td>view</td>\n",
              "      <td>1004238</td>\n",
              "      <td>electronics</td>\n",
              "      <td>smartphone</td>\n",
              "      <td>apple</td>\n",
              "      <td>1243.79</td>\n",
              "      <td>512471699</td>\n",
              "      <td>7b21fd53-8f8d-44f7-b126-fcb63b4a34df</td>\n",
              "    </tr>\n",
              "    <tr>\n",
              "      <th>2</th>\n",
              "      <td>2019-10-31</td>\n",
              "      <td>view</td>\n",
              "      <td>1004566</td>\n",
              "      <td>electronics</td>\n",
              "      <td>smartphone</td>\n",
              "      <td>huawei</td>\n",
              "      <td>164.88</td>\n",
              "      <td>548430364</td>\n",
              "      <td>2e5a410f-0d20-41c9-82c1-aa1b4dcdd11d</td>\n",
              "    </tr>\n",
              "    <tr>\n",
              "      <th>3</th>\n",
              "      <td>2019-10-12</td>\n",
              "      <td>view</td>\n",
              "      <td>1003310</td>\n",
              "      <td>electronics</td>\n",
              "      <td>smartphone</td>\n",
              "      <td>apple</td>\n",
              "      <td>696.13</td>\n",
              "      <td>558364479</td>\n",
              "      <td>587402bb-2083-4a8c-a874-f270e3408db1</td>\n",
              "    </tr>\n",
              "    <tr>\n",
              "      <th>4</th>\n",
              "      <td>2019-10-28</td>\n",
              "      <td>view</td>\n",
              "      <td>4804295</td>\n",
              "      <td>electronics</td>\n",
              "      <td>audio</td>\n",
              "      <td>xiaomi</td>\n",
              "      <td>22.86</td>\n",
              "      <td>514732843</td>\n",
              "      <td>52ae3808-c842-4fbd-97a4-ea7c862aef35</td>\n",
              "    </tr>\n",
              "  </tbody>\n",
              "</table>\n",
              "</div>\n",
              "      <button class=\"colab-df-convert\" onclick=\"convertToInteractive('df-ba9ca189-cd3f-4410-8c2c-3cddb8b54f52')\"\n",
              "              title=\"Convert this dataframe to an interactive table.\"\n",
              "              style=\"display:none;\">\n",
              "        \n",
              "  <svg xmlns=\"http://www.w3.org/2000/svg\" height=\"24px\"viewBox=\"0 0 24 24\"\n",
              "       width=\"24px\">\n",
              "    <path d=\"M0 0h24v24H0V0z\" fill=\"none\"/>\n",
              "    <path d=\"M18.56 5.44l.94 2.06.94-2.06 2.06-.94-2.06-.94-.94-2.06-.94 2.06-2.06.94zm-11 1L8.5 8.5l.94-2.06 2.06-.94-2.06-.94L8.5 2.5l-.94 2.06-2.06.94zm10 10l.94 2.06.94-2.06 2.06-.94-2.06-.94-.94-2.06-.94 2.06-2.06.94z\"/><path d=\"M17.41 7.96l-1.37-1.37c-.4-.4-.92-.59-1.43-.59-.52 0-1.04.2-1.43.59L10.3 9.45l-7.72 7.72c-.78.78-.78 2.05 0 2.83L4 21.41c.39.39.9.59 1.41.59.51 0 1.02-.2 1.41-.59l7.78-7.78 2.81-2.81c.8-.78.8-2.07 0-2.86zM5.41 20L4 18.59l7.72-7.72 1.47 1.35L5.41 20z\"/>\n",
              "  </svg>\n",
              "      </button>\n",
              "      \n",
              "  <style>\n",
              "    .colab-df-container {\n",
              "      display:flex;\n",
              "      flex-wrap:wrap;\n",
              "      gap: 12px;\n",
              "    }\n",
              "\n",
              "    .colab-df-convert {\n",
              "      background-color: #E8F0FE;\n",
              "      border: none;\n",
              "      border-radius: 50%;\n",
              "      cursor: pointer;\n",
              "      display: none;\n",
              "      fill: #1967D2;\n",
              "      height: 32px;\n",
              "      padding: 0 0 0 0;\n",
              "      width: 32px;\n",
              "    }\n",
              "\n",
              "    .colab-df-convert:hover {\n",
              "      background-color: #E2EBFA;\n",
              "      box-shadow: 0px 1px 2px rgba(60, 64, 67, 0.3), 0px 1px 3px 1px rgba(60, 64, 67, 0.15);\n",
              "      fill: #174EA6;\n",
              "    }\n",
              "\n",
              "    [theme=dark] .colab-df-convert {\n",
              "      background-color: #3B4455;\n",
              "      fill: #D2E3FC;\n",
              "    }\n",
              "\n",
              "    [theme=dark] .colab-df-convert:hover {\n",
              "      background-color: #434B5C;\n",
              "      box-shadow: 0px 1px 3px 1px rgba(0, 0, 0, 0.15);\n",
              "      filter: drop-shadow(0px 1px 2px rgba(0, 0, 0, 0.3));\n",
              "      fill: #FFFFFF;\n",
              "    }\n",
              "  </style>\n",
              "\n",
              "      <script>\n",
              "        const buttonEl =\n",
              "          document.querySelector('#df-ba9ca189-cd3f-4410-8c2c-3cddb8b54f52 button.colab-df-convert');\n",
              "        buttonEl.style.display =\n",
              "          google.colab.kernel.accessAllowed ? 'block' : 'none';\n",
              "\n",
              "        async function convertToInteractive(key) {\n",
              "          const element = document.querySelector('#df-ba9ca189-cd3f-4410-8c2c-3cddb8b54f52');\n",
              "          const dataTable =\n",
              "            await google.colab.kernel.invokeFunction('convertToInteractive',\n",
              "                                                     [key], {});\n",
              "          if (!dataTable) return;\n",
              "\n",
              "          const docLinkHtml = 'Like what you see? Visit the ' +\n",
              "            '<a target=\"_blank\" href=https://colab.research.google.com/notebooks/data_table.ipynb>data table notebook</a>'\n",
              "            + ' to learn more about interactive tables.';\n",
              "          element.innerHTML = '';\n",
              "          dataTable['output_type'] = 'display_data';\n",
              "          await google.colab.output.renderOutput(dataTable, element);\n",
              "          const docLink = document.createElement('div');\n",
              "          docLink.innerHTML = docLinkHtml;\n",
              "          element.appendChild(docLink);\n",
              "        }\n",
              "      </script>\n",
              "    </div>\n",
              "  </div>\n",
              "  "
            ]
          },
          "metadata": {},
          "execution_count": 104
        }
      ]
    },
    {
      "cell_type": "code",
      "source": [
        "df_ecomm_filter = df_ecomm.loc[(df_ecomm['event_type'] == 'purchase') & (df_ecomm['subcategory'] == 'smartphone')]\n",
        "df_ecomm_agg = df_ecomm_filter.groupby('brand', as_index = False).agg(revenue = ('price', 'sum'))\n",
        "df_ecomm_sort =df_ecomm_agg.sort_values('revenue')"
      ],
      "metadata": {
        "id": "jNO37GnbrXGW"
      },
      "execution_count": null,
      "outputs": []
    },
    {
      "cell_type": "code",
      "source": [
        "# cara lain untuk membuat tabel yang dibutuhkan \n",
        "df_ecomm_brand =df_ecomm.loc[(df_ecomm['event_type'] == 'purchase') & (df_ecomm['subcategory'] == 'smartphone')\n",
        "].groupby('brand', as_index = False).agg(revenue = ('price', 'sum')\n",
        ").sort_values('revenue')"
      ],
      "metadata": {
        "id": "uEw64utkTUDY"
      },
      "execution_count": null,
      "outputs": []
    },
    {
      "cell_type": "code",
      "source": [
        "plt.figure(figsize=(10, 5))\n",
        "plt.barh(df_ecomm_sort['brand'], df_ecomm_sort['revenue'])\n",
        "\n",
        "plt.xlabel('revenue')\n",
        "plt.ylabel('brand')\n",
        "plt.title('revenue by smartphone brand')"
      ],
      "metadata": {
        "colab": {
          "base_uri": "https://localhost:8080/",
          "height": 367
        },
        "id": "nR-zQbNWr_pJ",
        "outputId": "73fc9397-1b72-415a-c6e0-3164af34479b"
      },
      "execution_count": null,
      "outputs": [
        {
          "output_type": "execute_result",
          "data": {
            "text/plain": [
              "Text(0.5, 1.0, 'revenue by smartphone brand')"
            ]
          },
          "metadata": {},
          "execution_count": 108
        },
        {
          "output_type": "display_data",
          "data": {
            "text/plain": [
              "<Figure size 720x360 with 1 Axes>"
            ],
            "image/png": "[encoded data removed]"
          },
          "metadata": {
            "needs_background": "light"
          }
        }
      ]
    },
    {
      "cell_type": "code",
      "source": [
        "# cara lain\n",
        "fig, ax = plt.subplots(figsize=(5, 5)) \n",
        "ax.barh(df_ecomm_brand['brand'], df_ecomm_brand['revenue'])  \n",
        "\n",
        "ax.set_xlabel('brand')  \n",
        "ax.set_ylabel('revenue')  \n",
        "ax.set_title(\"Revenue per Brand\") \n"
      ],
      "metadata": {
        "colab": {
          "base_uri": "https://localhost:8080/",
          "height": 367
        },
        "id": "rf4klPXbTT2F",
        "outputId": "60678acf-7efd-4cdf-c82c-b592bcec8513"
      },
      "execution_count": null,
      "outputs": [
        {
          "output_type": "execute_result",
          "data": {
            "text/plain": [
              "Text(0.5, 1.0, 'Revenue per Brand')"
            ]
          },
          "metadata": {},
          "execution_count": 51
        },
        {
          "output_type": "display_data",
          "data": {
            "text/plain": [
              "<Figure size 360x360 with 1 Axes>"
            ],
            "image/png": "[encoded data removed]"
          },
          "metadata": {
            "needs_background": "light"
          }
        }
      ]
    },
    {
      "cell_type": "markdown",
      "source": [
        "#### No3 ![image.png](data:image/png;base64,iVBORw0KGgoAAAANSUhEUgAABpcAAABYCAMAAAFQTW//AAAAAXNSR0IArs4c6QAAAARnQU1BAACxjwv8YQUAAABmUExURQAAAJ+fn8fHxwgICO/v7zAwMFhYWH9/f6enp8/PzxAQEPf39zg4OGBgYIeHh6+vr9fX1xgYGP///0BAQGhoaI+Pj7e3t9/f3yAgIEhISHBwcJeXl7+/vwAAAOfn5ygoKFBQUHh4eNx9i6AAAAABdFJOUwBA5thmAAAACXBIWXMAABcRAAAXEQHKJvM/AAApJklEQVR4Xu2diVrCyBKFR0CD4hpEVIjL+7/kPaeqeknSAaLg6Nz6P4VOL9XV1XsSkn+cv0P9H8KKNFCmxr4D7/YNKvvOmNp3iQf7zugK79GNsDeBYUX6566uV/Xkpp7Rk/pu8VU1n/Soqvq6Xlb1sn6ub+r6o76C8wZZLC2XSX3L5Mv6sa4umBSxbikBXpvFDLJfG7PHCnHIclY3S2Q0Wdbqwzz1f/LKY4AIkDGnX6YNjhb4xD8zoH/9Kb5baCZ+ViSpJ8iA1tCVARX1xX8FT3w3yK9CKFxLftRNU08lSjOvq1ccIfyavvU1osoxIs1Q7jMeNUgG2fThJ2yAYPxDukZVBQG81swzBCDpoq1NC0ao7+vlVV2/VFeStxXpH0kjZbpvJN/FRBPQBs3io1mfQ7PnettAx229XVNJzSh+Qt4NvuTYPPG3RJmmz02zZZlmzfOaIRehLPiGdRGReWp5USZ6N9eI8EZ5zU1LG6SAi/+EEfjFOq4X4rQinWiMkKKVGPAve8OKe3nPuroVyXEcZxc2Yvw3GFWmoZHZaAdjLZHYtWwqyd2T0+5wKxPnPcwCi496YysWzPT0pGrNW30BKe+UxGURl0GzuuIKBdPkpmKcFabcjS4GMPutsKK5waLmpkKa1bL+bDBbYn2EoE29xmLgHi6kl4lyUmPRwzybe019X18gpxeGvdQLLFOqXJv6EipgXVavnkSULkGWtziEUlxpWJkgg2nS7M55GYVs+C2LBCTFDPry+bbk4mDNMPnj5E2XOAWsY5gLs0fQssLSZsa1ocZvZK0hKeOCSA50WUKvJ/pAFXy+iZi7XBsuNBvqgOi2bEECfqPsFX2tTFiEUGJWJnxhCdXA/pjHKQKSRdBFA/V0EcdY+EPDktQam4WCeW+pTHPz8CSRVA3WeL0SRbCuvdQFUf0oiZEnc6UXiiXiashhmTraXGKN2/A/lIkrIkmLUC4MQ5kiDDgaWtQCm1HZ7I88r2GkgJXJcRxnDzZoOL8Nqx/DPJ3fhtWPUTfvsg7bj670EvHgNrganvTqsSqK73nK0nUIrrfKDK1YdLUWOUCHsqDoO5CP0rVNou0dtNopTLH6MTQBPuXkKpeccL7h89y8NAxQlRmcq0s5rpoK0bhkX2LRjPhIyvOez4iosuh4m9VnFHuHNXrTPIig2/pzAfEit+FG5My2Gk09eUCzYRwEPsBrdk3XHT42PEfb3N1pRhA6Rc7T5oIaV1j9N5JOZMrZXCziubqdqLKdItX1K5WU4uTlFIKHeGkTnGLDJOKwSxJvaNPUc8rkX882+JjVq9f6CoUO31jER63SHz/oQuhDfcHo+JY4Vj+GRMXGDwHYbuBPTjHjTz50K6Noi5EAgQfiwUV+s2aI9KYGdScRHvF132xZTfCVfaUENJdbOCasm7rhhkTsWtE+ONC0UEhi2zF6E79110IPCGUYDGUxLG8NvsK+VN1nzxKqB/LBImmsjqd46bd4bNf8pC8VU+8VG6Rq0zTcAjEEdG0jJ5jlX/1CiGllf3NuuK6bjRzoaJLKbfVjQB3uOJ/wsQ5/ugnl1QKe4MYumZ/19pLeGiLwS3bxW7v+ILErxpgj7FLCGYw/qBJSywf+ZwzTDAkFWWwiKSps1uvtRM6mw6X6w5u+8nf7hO1wvUU6k3LHeBUOZhoD0bfcCk9kQxyVRHZIozKiJ0ohl5WyWHTqt0XezpCfaMPd8LBtZHSjO/jxO2pVLxDOcxhQGDnZpr/ihQGWW+Jo9QQY7vxCrH4cx3Ecx3Gc/za2+nN+G1Y/hnk6vw2rH8M8nd+G1Y9hnoehp8OG4YmcPsNnt1vIrR4DlAULO4IyiprvKw45s++9xRgQdkgeRax+jPqyqXYZKAF7tPKMly+Spcoma+TmnQ6LuTkCO829I3AgqHPP9yHVVJR0WDUh6UHVFLTaWVjF6sewFAuKW81e5Xzotv7kScDlGl48b/nBE7mbhveVV3LJQU4U8vJFzXuI5IpG1cBTZF2tGBlVc3PFG4TkNHN9fVHXr/WHnQqv9Sar6o43nSADVNmc0ra8G3kh9pjxc2u3T0GwFnfWVIi2/GDxr1jRcuZ5drWBB29Q53lYiHzhPVRoCYxRMQWiv7aKBH/egSXFMU8Ug/7BY0FdJmdaTfNbFIcnmOsblI6GqOv7ZQW7lG1TT3ir/AqJxa74nograNUw7qNG3UBBCd3yvnQpN+NY/RhqWrskspjhb8prLVdv9Yx1H6+DSB2EizDSKuQqE68jsZrmcoKfsniVSa4I8cLTgjeiM4CXpZrmorET/CbnUS+g8M++7ECv2yBXHMRrPRIJrQF1RmFy19QH5CKT5hUejAE7ULZct0lXhUTzvEgM5E38jBY9JQegHrx69CqlkhC75KVXwNKFrAHb6NUsHsL8+o1Pc4pWdEwYFc4HCZU/vV7FOFY/Bn0lCv5DXNY7fVa8hlS/oD2iX9CJgKd1fV3JzwvkKhP+phJXuhMdckVoiTp8adAeG5ZY/VhvYsqmvudFpqZ6hKbrVf3Gs/pMi7+nex1c0GuoxZt1Iw3kRwM/SBef9Vr8m+nyWTyAVpNewIEgei94m1i7SIC5aHGipwYQ9RCZ0pskRMShzYt3w1sjm0HbSAI0SVE/fKu/aVVf6yH/zeJMquVmHKsfQ6JafEmBPyZ6wPdWq4kRAJwIgJ9cuUrVpLeRIrVWEy8GyjeC8D3lUbuaXhgeIkGKFEz9eKGMBtRAuQaXLsnxGz1YrznSZ30v/mgo6gHMliJdDcKLd1pNqUiA3VqLEz01gN/qIUI61RS87XrjkG0kgYwU8A7f6h/E6DVQ/NMmDJU08iFxrH6MGsXYbF8/GCH8aWNFqaL6oWNbudho63Vzjjyku/J+0rlV0xJmfGieMC7wVzdnGJo4LHFwCtX09gxxK0bGJAEjXslcQTkyVkFHBHNmeLGL2HKhHX+8wZSuC7seDFXosUATlKuiAAF0SLgaZCnyOkViCOcmFicvp4QFj6b+wHArkRfoPGbfF5Ekd82im8JZss3HI1wSDd7hW+OJmCVmNIxwVK05RxBDkclEy12qJpUrH5jS5I/3X8OatJ7MchVnX0bhCAHkwiq+MBeqE9E3awQytlyzleurnE1XGM/oy4u8iMBLn+LBb5nh4Wa4fsr1TM7JQBSS+HBZrPOp/NCJl4bNR6+uYi0i3+JxX79hQMIhBIVrrMib8lKR2E6sONETYy+jRg/8zbXk2QVkXk+WMETlWmTANrw2HK6Ix28RqWJkcSNekNNoqF4I5gfjSO1EGNJFa/4X8oDOo78/PBje3GLOA9B13UFgAhwheJhmPSnKsfoxzNP5bVj9OI7jOI7jOI7jOI7jOI7zZ7GTfY7jHIR1nBIWw3Gcg7COU8JiOI5zENZxSiB0wXsMeNfqceFNR9+g0Sc9HMRN01yacy9y69Eups1mddDt2j0auYtpJLw56nDWekPbEIfb/Ju1EyncavIlMyTGabYj9h5bfRXrOCVYm7zTrH6yG6+OgD7OebiY8jzJNn2vMZ3pqMRbyUfzA51pD0fqTCNUOmZn2tduSoyJfRxLW8cp0crhhVOUNKZlg9G+ae71UzzQ3hs+tLQ+p6PhvXwai88lInYDnbjhaSnkNxjX4iedNkRALrfq4i2eQlVP1MFuFDrTWnyokzh4e3j0kikVWfEZrrk4RFWVKABsdeKizuongdO61ucZmR/vu7dMaj4zVh3w2poDxIIsxCHeDJapUW0WotYrOWqadZAK1aHpO528gdyykARiKrnJumloBKaHW/q1HEk4v6V4miUD1QS8W5/srCVB4iOfrHa6MXlrscoI5DFSpV7RpTeWk4IZMiMVVR7XbpLyrYbKgG7DpV/XVrFYWdWSUA0pbaZWUiDKsY5Twp6bJVgG9FmKgKmKofeSTwKGO7wfYM6gJZ8bHEenOCKFEYaJPxmmefBpzwKMxS+0Kn5JAc1Lke4bOlOcodDK7DN4odUxC+tMuTgpNT5peCKNV/1WfIMHk53jUB70J2990FAidXKr3Y9xUgic7YJI0K3+DodH+oA5y3RmOshHUB2awkra+cWJWHDzRReUi08c213OcMfOFLPUBhIz4iPW4JKWB0Itya8jQF5LguRDstoRWjFjrByLEZNppNcQdcgMFrGk8th2E9UyB4OlM7WOs8K2bWXR8qolYjx5tUe/OWcKRDnWcUokDRGTv1XDF3y0w+unDN82nTLMxhtUefRUwr3d+XS9TQNzzMl6jvUJ8Q+dSeNxAxc7kQwOazZAZR69dFBBNGmcuTh1i1OgQ94tQ6VE/3f+oAoBd3XzwSf66dMYibRgS7lmbrGy6a3AiZavrpiJRYzHOgKjDjLVtRshjhRInSLDoNPKDVJnqmdTnX60gaSMYCsMmTwku2qJLFQiyGqnHzMJVLoxtFJFibjMS2ky7aKRiipr4MHtJinfbai9hqv0bRWdVrXkovmc3YhoS2uZUi1zSeIgxzpOifouDmOWzYK/ulS5+mmdCYVD6+XvqVipUljLfRUHJUULrYFqlDhKCdaM0NjwiQ6Bdh1bFn/D1e5MQB6WbzO/oc/PB5zdJXUurtuZNo3pwMJe5oPXB32aj9SXVHv5GTFl0kPMKKSCaAJm8KojHY9SvQGs8tRBr6B61pnwgflSf66FFZMEg1Zn4oSKlqxHukxtN5Bp27K7akmIsvLa6cWUcSejG0OTifMlRC2ZIRmpqPLYdhOVV0dqqN1jo2MrK1ZetWAhE6FgaTO1MgWiHOs4JRBBR1BWoa4QuVJQufppnemVYfxx1gcdZ7nxdZEZdaDAEChGMcEWmyqFDQTJvGSqwRicdSb66HJO1uiMrt+L+km+sarTJpqJ63YmOGXUk6UKNCNmHPmFsu6XFK1SLZJsHDSmkgrCrysp4514se5TvRHTl/URVc87k4z3U/XZSLgOhqkzyTJfhg3YRCVJHimjRfMgsnkMlow9VEuCxMZsmdVOPyY1i/tL0I2hlSo6pd93lcxAHzVSUeWx7SYo32uo3WOlY6tQrKxqib4nhe0xpM3Uyuo7yLGOU4IxDiFX0jkE3bHHGfQ06JS3jrPCMUkbqqNySpW/gDXsw6vJOk4Ji7EX70yjkalc1xSnQ060yaD5Z/hlKuuigPPgYVjHKWExHMc5COs4juM4juM4juM4juM4juM4juM4juM4juM4juM4juOcELttz3Gcw7Ce08fCHcc5DOs5fSzccZzDsJ7Tx8IdxzkM6zl9LNxxnMOwntPHwh3HOQzrOX0s/BR876f9d2MePnK2POITOfgwWHOO40uPxng76kNWDrf5sR680Ff/u08IGafZzz9AwnpOHwbKk4Q/JN4x+V4p7TFYhzGi9T/sexDOW/O+jU9+GsWXGtF6XF/aE9v7UsY4yx6M9Zw+CLtqmptKn8h7HEzUcCkLT6PpeY3sS9mT7nZzvi/mzZcN8RN96VEeyzvI4e1wZ0x9rOBB9NX/cl/a225K7Ijds9WIYu3Aek4fPoNTp6T4INdv8/N96Zi8fznfn+hLezi8He6M+d/oSz1O3pdaxtg+fupz3aoFNiEbODYv0WO+lGebItbNiz6ZG543fH5xPatu4vPgqqapKj5p/6beLu35zfX241YeIQ9miHBeiaini+aamSSvy2VzLo+aTn3pbtks5Slms8+rd8bOvG6urqjJ7ZLPLI3i6tlyVd9dxczrlTz/eAZ160ofF3qmZdGjSlSzzytoT8ditVTTT1Yoh8gnqSDVsrKHq02qRy4c2Yiqz+xVTqvl+WtVUUpU/XXJ56Haw5HvltdPoS9tls0Hny5L1Zf2TNOtPDJ7Juq8VaLOhAfQaPEaMtosq6rSZ2uLzXfUkjB/kch57XRibqrmQ20QyWPMo11XN+u8+ZTMEIw0oPKYdkNMefiHhmp9KW+4obAdW6VixapV7qFkxdqPaTO1ggJJjvWcPtjja/Mk8ixiNY6+L+MKpuInPfS1Lahue2h7jIVvfWYsm0L2oo70IhF7vKw9jh29hMAlj9OlK3rpNyXFvqTPaoYDtgZ8InDwUpVgHn2CcBTHxPE9LURlcca5l9dPfEpE1htb9Yc8//hC9Oc7KOQVFeV3kqSCpJeqqDrQK3/1CeEByVXPX20jVntWt3jaE6JRDq1qfb+NPAlfnl+JpYMM+llGVmUSEZjNy7VEpFq5ZUy104uZjo1uDHXK049RBrpJwQzJSGWVR7WbTPm8obIvdRsuHT1b8UuCUtUK2pr49PR+c04KJDnWc/ogTnpypQia2LO2sfJDe0TZ3mWUlIZ5T1stqMXMXskiS9KV7OfjnsXKIkbciPkkSBsrO71NQrD06xsM95C8muctXwuD6KEvoR7f6hm6ChwVm/pr8pIudIZ2J44kjombKatERHBLyE8OCvK+k40YkodSz/qU6RBZG/BK9L6iysv06OusIOccreRR769s+TO4EBGeMVN7HQzGsqQ6jpvmArUH66IBTKV+EFe2q0ivqjf2HoGsL4mi6PzWPmJG+hEsj8PhWhKkQ39CfKqdQszOYqgVI1Wq5s9PUjJDMlJR5XHtBodJeTisobIv5cepsF1bWbGyqiUTKjG3Nt5tzkmBJMd6Th+rL6H1AiJKXdgn51XNJrwnQKWaigPvzNEULH/vpTvq0pOH+g6lfL+EpiZtSg7iC5ekuUkDjV7xgfbiyMQhMcQFEabaHYsnvUostGAU9ie0Z6S+D+1HDWJJGZK93qdbEHnof8yl834jefcGhOeqw5NOGb+lmBbWelsTtRO6fQlY+4gZSbuQNwkJu2qJ7HtjksXs9CVFY8Rkt/qU5yg8OgZe81RQeWS7icq3GioCB96c1bWVFStkY20ne51VK4RqZQokOdZz+sjCx5D3e2HXIYsf0T/7VOetSMSYitkQX+pZN9dYb1aiuhyqwxLj4AULYaCLRfFjEOZP2kYvJMW+tF1hxwKf2BHQ+h44daL9LZdLWRIFL07WfLEJPJ5b4jQxpgObc+9ag+KqeawqXVvxg6/yCFMXsL6kJ2QYEsvVK8h2lV7wADTiU8j0nWuyB47mLdVZUdKjtFvJfglTFCJg6LM34RhZX3punjnGh/ZBp2QkfSzqHmtJDjq1RFJZ1DNk1olZ6EutGHRaBw4SUi4dM6iRiiqPbDcxYreh9huuIPFzbawvpaolYqyFjJeWNqmVKZDkWM/pU9+kh8ib9OxdXtmnOuUNIt2XVSGhIgc81C9NjAMLjgtf7TjWatCYaGCNLWsekPUlWQujAYo/SV66sJXUzy1x5o59aQErvkVzyTtIljLGId5dwwFtIQMTsb6ke1zKiVXIQwUFQUclazi4AiIaUV97AnTrxcFHHYDOrC/RKX0J+irxxWdC1pf4umuKkjyyjNJLuQS1YrmWSBKunnLcj9ntS90YdNrkFyQe9Ma0jsoaGiQEUSkLCw7tphsxNtTusdG1VehLqWrNEd4MZ2ktV3iZgwokOdZz+mDBFE+G2ysI5zKIa4HSpzr5rtKV2SF61vIusoRpaYlxEF99ZWjHwWaT7XmukkJsiJIBPGtT99iMbxEU1yPBC/DFQ0z23BLX7UvUULzk1EOSzBENm6Ub6U6G9SUtEqOqFYWsICJEqsjGuXa1gY8Gq7gpZ5NM9VZfYnzpS1aXZKgvWUi3fXDzn5092lVLJBUz1U4hZqcv9WLQabYQX3EUzCCB4iqqPLLdROW7DbXfcIWurUJfSlVLznj6R2c+S5vUyhRIcqzn9KFMW7ahCqR5yoBjBUqf0gbkJWs6IIkqIfOslQN7wZwlxkHvVXCqu2wyefYtemlD6vYlhlacTexICCdi5EVH0kIzcf2+ND2TNbWcesgEvTaXOFg1uicUrC/JZ/elc/nL4+Jb86K4vNpAOmWRqZ71JfQ0WD4UP0yLebl1GRUrlFeRO+0je7+dsKuWyEHv8cO32jbQi0HnSt6dhpmHHiA6MjOUXi2YqTyy3UTluw114H2OHVshTIqlikrVkuwli5Y2qZUpkORYz+kj0wOmxgWbkFTuSiRagdKnNIINFXhhBtiqxHAkkV1LqIDwNmJNLPHEfpNgRDQllhuN6fkTbYnXEtQLy6KPGbYNCAxt6qw522J9wzpA99lWkBq9miVnZ8QT5TJx/b5kp2hkmf4s3hI0b6bY6W8bq0aifelVTC1i1IpKKgjPEEBdSPngEoBdMq82gDzBFY6S6vCMfYkrVVmkwgO6XzydUUDel7ZcM4il1xxRqbzkkWXUNOfLcEEJ7KolQQpwjYEj1U4hpo5169DBezHUiQ+uY+kBSmZIRiqqPL7dBOXpyBpq91jp2sqKlVUtwfp1ubyR00uWNlMrKZDkWM/pg3CsighGGT2bLjejqdjsU8/623wCh8gOiusJ+aAdmw6mCEtMXxUcO7lcmcC3bFxUcfNCm2oaeedraFPxjZpoIsJj8pJvllZbaBLX60tQUL6DP6ELKywkh8JSi4L2JSsSvdWKSipIegGl5ouumlcb0Asmcoau+y5NuPEpFjVVVXc4876k5ljDQ/dekCR5ZBmlV0UKevlnoJaI2JkJs9rpx2S+zMA2Kr0YkkxEZe/nLZih+JbOTOWvtBuK6DbUXsMVJM8sYytWVrUke/lnSJvUSgokOdZz+jBCfX87N3Xvw/XurWSVfSKfud4ZAA843jjfajjZVmnRXi/mvEhuiXVeXlcVz/oas1u7/WBehTMf5nVfYVrZ3sO1DSGrSi+5M5NKT08Hr8tK068tbhSniaOIehb8NVsIMm1UvS0tbQRZ9ZMJix5CLMhbhdFHgxYrsZpFDNHlYjA+ZT8aVNc4M9UDslBiiz+vKtUlpCfrmIkVTdKnjO6kjWjDI/DaVUtkq/rntdOPuaUurzIoC50YVqm8d+FenaRghmikIZXHtZugfK+h9o5Jx1b8VBPHqiW6ottyLklpk1pBgSTnnyEkwiFk/d05BD2ngjYTdkKnQEfL1JeOig70x+akKn8BrZ8R79G1ntPHwvfjfWksujw4bZuZN+/revKeriYfkdVpND+lyl8h3Lllh/uxntPHwvfjfWksa9nt2NmiUzH2Bca/gN+m8jnVGdG6ref0sXDHcQ7Dek4fC3cc5zCs5ziO4ziO4ziO4ziO4ziO4ziO4ziO4ziO4ziO4ziO4ziO4ziO4ziO4ziO4ziO4ziO4ziO4ziO4ziO4zjOH8Aepuc4juM4x8fmmjFYSsdxHMc5PjbXjMFSOo7jOM7xsblmDJbScRzHcY6PzTVjsJSO4ziOc3xsrhmDpfxb3Ferf/E9wpPtdvtm7v8X7p+qavOTNv/BKr5Hff7ON2mfwgj/bt/ps9huL805zL+s9Cmz/231cQpsrhmDpQSXVfVyU539hRF3OeqF8kfmjO+zf7aDYyIv7n9Y2NHROLtqnr9Zqa/UDGzt+Af4uSpeS9Hs4OhcXDW35hzPKYzwr/adAuxO5hzmX1b6lNl/Ufa32tVPY3PNGDTh5bN0TuNRPX8Vk+osjdhfqcvFHCv+vePzAbFONi/diPH3Lx7HwWH36nuT3W3TTH96ufJzI9FJ5yWxvrnHcwojfF1mqwsejV86L317vDmUr8ne365OU1tfw+aaMTDZ2xVKeW67ycuPH10XHwo0PDPn1+qygoT9qQ6IdbJ5abH5WL4ee1o6Bj8/KvxknqfdL32LUxjh6zJhpdQFj8YvnZdahT1l9qeSfZra+ho214wBqZ5QhHMV8Hv5djv5/fPSrwWb6cqcP8bPjUQ+Lx0IrOTz0tE5lezT1NbXsLlmDNgtoQTlael2iiDyPDEfWnHLKxbkgWt7c7/Ha3eIsa6fHsS3uQlbycWt+TTN58z8KGvxSK+p+XxKBOxQ5+ahXJo3eaGH1OVcJU43EkcZEFDPzV9Yqd/9tR2jfE/i04/19G5HYGlbmf68NDmXCGAaDDWJCd+jVzdW10OyD4L72lmEenEhvk1z0dmnU7FgW5lg5dwb6scKDEPCcMK5aoD6DSepaeNgSS5UgtZsHQHzG2gW7aoM9Guk1BTqeqZnMaOZB6vY2EQhgpqib/VBk0Wvx3v5Mu9BEU9S6Lyn57N1NriutEM0U40r5QiubX2noVmJ3oIiwqv5KpL4zko6si8FDjPsPpm9LlhgSEah0PHCweOiOC99T+mDrXyy8UboFgKUu06alw7vWilZocSl2iqIThTM08+3WNi+Z0Efm2vGoBe1CyfuFqyG5WqyPntkiWxsQ6YYTR822w0H1Q9YPro1AmO8QM1qe/dICXqtCmvSq8en+/peKteKgJgwx9Vj9SGDMTOcbi7r2ROH5DiWgsWm4jD7UQExKlKi3Fef27lUvV37GBbQnnFkwLizg8BdKZZMQYlPJuzPS9AGGS+X/NaRSoU/LJfSFvTaTC9WzyMTXNLOImiFK7G9C5xCQutgy5Ryskw2oLGir7dv6M5wSHOFnS4kSDcN1tAX0DqNj7A9slzC9CvKGWwWeVUGSjVSbAozum/m26dX5CV6Q2KhigMTMexyGWb2KVUrWX3IZOFOjoh6D4qwYVTnGqU4L23h4Bj5dvugaz2UI40fLFSnROwrlLqBko/d+zzNCOP7UuRAw+6V2euCfYZkMMNOoWXcfLGBA6hv5JtKFzIsWfmU4w3oF2Kw64R+NxReqtmUDC7qlyvXK0BZdKRknk6+xcIWPQv6YJ4ZiwxO/QWLmNXGLOtt4kKOYQaSPvyiYx7dYnuNYb6y8O7eNYJB8UFdjPkQ91ksY1iKvMF4+bIEpAxAngfWt1phewSwokJVYlXLo0Y3IhJiVm3HensJeeoKRLLMpg9hwuPWrSIiXK1ERZopBqperH6yJHhAO4kA9aDGmyzrWy01n2Zq2EJlw1RaHGoSCgb5UgcYnd/FQ9QMu2a00mt1GdkIvKNZpKoM7KmR1BTuERhnwnv5LFZxhKVXNT7gUm1LVh8ymU5LrNxZPjTuEvEMvSamkFCcl2C76ClE+5dLhByX4qhrKNI1UJ6Efak7ngz1pchow+6SicPUBXfSltHLLW+KchOquY1vK32QlU883vQLMdx11BajulZKVlauXYAB0YFiI2znWyxs2QIFfWyuGYP0r1491zXmSh2yBNS7Np5kDkmYu60W8hg19oHdu0ZoFi0uYmanBDBUhC2XHLSHxl47iXlwSBAr7BHQnnF4YAO/BWlp27EyUEDbVso4lVlsxuPm3dZrBKuOuEkRgQjrxeonS4IlqK+dRLD+h8UiCGcvFNSSWRvDo9qCJ6lkxcR2Y0uES65EZAcWNlNoYFPOk/Sj6To3q2cj8HCzKJzd2VMjqSmgmXTDilUcWMDDSgOxVuiS1QdMJumDgbPzeMMiCmcUMqtIHHFwZmtNTKkcxRJhSRlGr96U1k5CI1lBIkN9KTLWsGBYJgIOnJdaMvq5oc5S/4mmi3xX6cOsvKdxIum3xpt+IfaNqKO6VqZSUbl2AQZEB4qNsJ1vsbBlCxT0sblmDCLH6jQHU2Gc7nVxL904zzR3pzkq9xW9TPbbLTNS+k1IptYWnfPk8Cm3k9gk9whozThcfKYIsnXR3XkrFpg8ylhlFOclvZ1ReJR5QsXlsKq7sfoeUfCQdq2cxbddb9zUySSENmJ7n+jiviKy1POCMlIzAWpvzRrnSS6MrN2bwrMR+IBmkRiqkV5TgNT2Cm6giiPo9eg2T9s7yULSlq1eNhkFRm10uqLrABEZxXmpnqAskP0a9E3lKJaIWWplYLTo3YzfMivzMKn7+lJkhGH3y0TAnnlpt4yYGxbl7WKZ0zia0jutfOLxpl8I+OzsOvvC2yTvonLtAgyIDhQbYTvfYmHLFijoY3PNGHSJF3ZjCQyaWVEoX87M55nm7oF5ibt0zt8LzMPN8+dmu90yu34TkkJ2W2MOUu1vJ7sEtGYcvY5gByLCjNqel+QI64ClXXAoz0vgjlsQwv2wXKa64rldY2NLmFasvkcUPKRdK2e6QxsMmAmwPAo3sqAa5eQPB1+bjHJQbah6jBOoXFQRLAzle8NjNgIf0CwSxRopNYW2VKFYxZFZ1iUe9FRP2eplk4lJg4HTvHSAiIzyvATebhEUlpKpHOUSyTl4JbSKRMusI/pS5FDDHiQTAbvmpb0yYm6ovHhWqW064WhK77TynuECMb813vQLsa/r7Atvk7zLJW4VYEB0pNQI2/kWC1u2QEEfm2vGgMQYlvpjFsa2rC9igNaTJXmmuXtgXkLLkRESq/WwKUyma5ccK/t+x0wgVZo8C0XfK0DmmBBBT6KFepNq0WGkFUsuKtkGWIaawXmJXGJVIrOADnTWPLrEWIHkEQUPadfKme5uJro7gnXC9jqcqCu0RQG1fMPKYfWj6I/Mojct5SPwAc0iUayRUlOAX3aeQShWcUAqZr1+qrJH2JStXjaZnsez9pRWAQeIyICGcXRlHHMqawwFcoEvlaNYIixM3urtprrrnycELbOO6EuRQw17kEwE9Nevib0yoi9adPqld890x1M6+pasfOLxpl+IfV1nVNfKvIvKtQswIDpQbITtfIuFLVugoI/NNWNgatiwubbigFvetszrEaHW5YykjgB5prm7NS81zyaMNxFKurSRXHCY1eB2yZlhZ4WRgwzSTQKFou8VwHg6bfCsGUtkQtaY9uMllVYsOZ+mPUhOHJXnpcsPOXcmA4eO8HLv5DRslWdnTNaL1U+WBA9o18qZ7tAGA9T+EiNiXMVEQ3GqK6xtsM68RqOVVQnmsGs02cKDkLJ56YBmkSjWSKkpcJ4JU+miErsUqzjA5XHz/lnNsVSO6pasPmQylBPcoI7nMBeRCPtFZLBJ2LQoSwd1BuAl+qdylErEWx8/e+uACJJ8qS9FDjXsQTJbXbCeVBs9/RzYKyPmxnYRtELr65ruaErvtPKJx5t+IfZ1nX3hbZJ3Ubl2AQZEG+VG2M63WNiyBQr6YJ4ZiySXrochabmUUbDhmRFm2rxf3J698mTTg+mdZ5q7YQVzw5cpb6pXkaUW4DmI9/n26RPxENpvQoB3d2BbfoZd+SOSmnkDHIrOq+pDzFsoOtgtQLaFgoyxukqOxHm/FQv5tCiOU3JHUUDV6ginZy9WP1kmuKzdwCCbIYPsVE9sgXjXg6a9esU4fvd5nlZyPLMcdm+6W4h2zUClxTNW+5tFRqlGik1BNkDvj9UnhcoNDeUqDliDDejWsmD1QZPJcGhIOxXf/SJy2FSeXyveecu1Bb2g6fPn03b7iYKrbVI5iiVacE0YeM5ughGQhJl8jO5LkQMNe5DMVhdk0naOe2WkapQF37uajtO7eCaOpfRuK594vOkXYl/XGdW1kndZuXYByqIDRfN08i0WtuhZ0MfmmjGYgBkrV1im06qyfAQP6bRTninccUaGVuaWGPZr2/M4Qi74IxiwvGcEtUsuS4m//ZretGZ0Yj94lEV/njKrit0Cwo99pxbyJhsVEn/6Slqx+FAm8n7J36DqGC+dKr/XRi8ngOdkuvibOljvVYrbi9XzaAkuadeKQHvKfcw5zDWzKTba4UITGqrtDJoru8+CsFShdhkuM28XKBrnJbCnWbTp10ipKaC87DDgQX4ltaOKCW/CbR7utrfVq64jLGrf6sMm0x0wa5Zx4kXrPSJarDXz5yf56Zh4yQ85yI0pnMpRLBFy0w3R4umT6rUrFEkm4fec57FBH9aXAocZ9iCZeRdk0tTchX0y8mrU20PkJ+OoS/NMHEfpvVY+7XjTLQTY13UO71rJe0i5vACgIDpQNE8/32Jh+54FfWyuGYMJOB4DdnScYyG7vHBtR7Y4afb9W2DxkZ0aQ0E6Q/2vhQvwv6Lr37Xyz3B689hcMwZLeTx8XnJOjJwiaW64GV9jSwhat73+IbBSfY9bJIwP8tyKP8DiobnS/clf4K9a+Yc4vXlsrhmDpTwePi85p4b3dmR8/N1xxs4mGvpT4T/Aw9/q43/Uyj/Fyc1jc80YLOXxuKuq4kUKxzkmWzS0qjr7pW+aHcH95j9SkF+NW3knpzWPzTVjsJSO4ziOc3xsrnEcx3Ecx3Ecx3Ecx3Ecx3Ecx3Ecx3Ecx3Ecx3Ecx3Ecx3Ecx3Ecx3Ecx3Ecx3Ecx3Ecx3Ecx3Ecx3Ecx3Ecx3F2888//wOmDEOEugkwkwAAAABJRU5ErkJggg==)"
      ],
      "metadata": {
        "id": "kaSnIHqqUBba"
      }
    },
    {
      "cell_type": "markdown",
      "source": [
        "1. join dgn tabel user\n",
        "2. filter event type nya view\n",
        "3. aggregate total session\n",
        "4. diubah warna hijau"
      ],
      "metadata": {
        "id": "Qp-awdqosylJ"
      }
    },
    {
      "cell_type": "code",
      "source": [
        "df_ecomm.head()"
      ],
      "metadata": {
        "colab": {
          "base_uri": "https://localhost:8080/",
          "height": 206
        },
        "id": "gdlaQhHvI6S9",
        "outputId": "59693dd0-d656-4326-99b5-79d93fa97999"
      },
      "execution_count": null,
      "outputs": [
        {
          "output_type": "execute_result",
          "data": {
            "text/plain": [
              "   event_date event_type  product_id     category  subcategory   brand  \\\n",
              "0  2019-10-23       view     1600600    computers  peripherals      hp   \n",
              "1  2019-10-28       view     1004238  electronics   smartphone   apple   \n",
              "2  2019-10-31       view     1004566  electronics   smartphone  huawei   \n",
              "3  2019-10-12       view     1003310  electronics   smartphone   apple   \n",
              "4  2019-10-28       view     4804295  electronics        audio  xiaomi   \n",
              "\n",
              "     price    user_id                          user_session  \n",
              "0   148.04  548757053  7b5e86eb-6c9f-4862-b9cb-20b773d64a75  \n",
              "1  1243.79  512471699  7b21fd53-8f8d-44f7-b126-fcb63b4a34df  \n",
              "2   164.88  548430364  2e5a410f-0d20-41c9-82c1-aa1b4dcdd11d  \n",
              "3   696.13  558364479  587402bb-2083-4a8c-a874-f270e3408db1  \n",
              "4    22.86  514732843  52ae3808-c842-4fbd-97a4-ea7c862aef35  "
            ],
            "text/html": [
              "\n",
              "  <div id=\"df-89b66782-b3bf-465d-95a1-0d08a7679c03\">\n",
              "    <div class=\"colab-df-container\">\n",
              "      <div>\n",
              "<style scoped>\n",
              "    .dataframe tbody tr th:only-of-type {\n",
              "        vertical-align: middle;\n",
              "    }\n",
              "\n",
              "    .dataframe tbody tr th {\n",
              "        vertical-align: top;\n",
              "    }\n",
              "\n",
              "    .dataframe thead th {\n",
              "        text-align: right;\n",
              "    }\n",
              "</style>\n",
              "<table border=\"1\" class=\"dataframe\">\n",
              "  <thead>\n",
              "    <tr style=\"text-align: right;\">\n",
              "      <th></th>\n",
              "      <th>event_date</th>\n",
              "      <th>event_type</th>\n",
              "      <th>product_id</th>\n",
              "      <th>category</th>\n",
              "      <th>subcategory</th>\n",
              "      <th>brand</th>\n",
              "      <th>price</th>\n",
              "      <th>user_id</th>\n",
              "      <th>user_session</th>\n",
              "    </tr>\n",
              "  </thead>\n",
              "  <tbody>\n",
              "    <tr>\n",
              "      <th>0</th>\n",
              "      <td>2019-10-23</td>\n",
              "      <td>view</td>\n",
              "      <td>1600600</td>\n",
              "      <td>computers</td>\n",
              "      <td>peripherals</td>\n",
              "      <td>hp</td>\n",
              "      <td>148.04</td>\n",
              "      <td>548757053</td>\n",
              "      <td>7b5e86eb-6c9f-4862-b9cb-20b773d64a75</td>\n",
              "    </tr>\n",
              "    <tr>\n",
              "      <th>1</th>\n",
              "      <td>2019-10-28</td>\n",
              "      <td>view</td>\n",
              "      <td>1004238</td>\n",
              "      <td>electronics</td>\n",
              "      <td>smartphone</td>\n",
              "      <td>apple</td>\n",
              "      <td>1243.79</td>\n",
              "      <td>512471699</td>\n",
              "      <td>7b21fd53-8f8d-44f7-b126-fcb63b4a34df</td>\n",
              "    </tr>\n",
              "    <tr>\n",
              "      <th>2</th>\n",
              "      <td>2019-10-31</td>\n",
              "      <td>view</td>\n",
              "      <td>1004566</td>\n",
              "      <td>electronics</td>\n",
              "      <td>smartphone</td>\n",
              "      <td>huawei</td>\n",
              "      <td>164.88</td>\n",
              "      <td>548430364</td>\n",
              "      <td>2e5a410f-0d20-41c9-82c1-aa1b4dcdd11d</td>\n",
              "    </tr>\n",
              "    <tr>\n",
              "      <th>3</th>\n",
              "      <td>2019-10-12</td>\n",
              "      <td>view</td>\n",
              "      <td>1003310</td>\n",
              "      <td>electronics</td>\n",
              "      <td>smartphone</td>\n",
              "      <td>apple</td>\n",
              "      <td>696.13</td>\n",
              "      <td>558364479</td>\n",
              "      <td>587402bb-2083-4a8c-a874-f270e3408db1</td>\n",
              "    </tr>\n",
              "    <tr>\n",
              "      <th>4</th>\n",
              "      <td>2019-10-28</td>\n",
              "      <td>view</td>\n",
              "      <td>4804295</td>\n",
              "      <td>electronics</td>\n",
              "      <td>audio</td>\n",
              "      <td>xiaomi</td>\n",
              "      <td>22.86</td>\n",
              "      <td>514732843</td>\n",
              "      <td>52ae3808-c842-4fbd-97a4-ea7c862aef35</td>\n",
              "    </tr>\n",
              "  </tbody>\n",
              "</table>\n",
              "</div>\n",
              "      <button class=\"colab-df-convert\" onclick=\"convertToInteractive('df-89b66782-b3bf-465d-95a1-0d08a7679c03')\"\n",
              "              title=\"Convert this dataframe to an interactive table.\"\n",
              "              style=\"display:none;\">\n",
              "        \n",
              "  <svg xmlns=\"http://www.w3.org/2000/svg\" height=\"24px\"viewBox=\"0 0 24 24\"\n",
              "       width=\"24px\">\n",
              "    <path d=\"M0 0h24v24H0V0z\" fill=\"none\"/>\n",
              "    <path d=\"M18.56 5.44l.94 2.06.94-2.06 2.06-.94-2.06-.94-.94-2.06-.94 2.06-2.06.94zm-11 1L8.5 8.5l.94-2.06 2.06-.94-2.06-.94L8.5 2.5l-.94 2.06-2.06.94zm10 10l.94 2.06.94-2.06 2.06-.94-2.06-.94-.94-2.06-.94 2.06-2.06.94z\"/><path d=\"M17.41 7.96l-1.37-1.37c-.4-.4-.92-.59-1.43-.59-.52 0-1.04.2-1.43.59L10.3 9.45l-7.72 7.72c-.78.78-.78 2.05 0 2.83L4 21.41c.39.39.9.59 1.41.59.51 0 1.02-.2 1.41-.59l7.78-7.78 2.81-2.81c.8-.78.8-2.07 0-2.86zM5.41 20L4 18.59l7.72-7.72 1.47 1.35L5.41 20z\"/>\n",
              "  </svg>\n",
              "      </button>\n",
              "      \n",
              "  <style>\n",
              "    .colab-df-container {\n",
              "      display:flex;\n",
              "      flex-wrap:wrap;\n",
              "      gap: 12px;\n",
              "    }\n",
              "\n",
              "    .colab-df-convert {\n",
              "      background-color: #E8F0FE;\n",
              "      border: none;\n",
              "      border-radius: 50%;\n",
              "      cursor: pointer;\n",
              "      display: none;\n",
              "      fill: #1967D2;\n",
              "      height: 32px;\n",
              "      padding: 0 0 0 0;\n",
              "      width: 32px;\n",
              "    }\n",
              "\n",
              "    .colab-df-convert:hover {\n",
              "      background-color: #E2EBFA;\n",
              "      box-shadow: 0px 1px 2px rgba(60, 64, 67, 0.3), 0px 1px 3px 1px rgba(60, 64, 67, 0.15);\n",
              "      fill: #174EA6;\n",
              "    }\n",
              "\n",
              "    [theme=dark] .colab-df-convert {\n",
              "      background-color: #3B4455;\n",
              "      fill: #D2E3FC;\n",
              "    }\n",
              "\n",
              "    [theme=dark] .colab-df-convert:hover {\n",
              "      background-color: #434B5C;\n",
              "      box-shadow: 0px 1px 3px 1px rgba(0, 0, 0, 0.15);\n",
              "      filter: drop-shadow(0px 1px 2px rgba(0, 0, 0, 0.3));\n",
              "      fill: #FFFFFF;\n",
              "    }\n",
              "  </style>\n",
              "\n",
              "      <script>\n",
              "        const buttonEl =\n",
              "          document.querySelector('#df-89b66782-b3bf-465d-95a1-0d08a7679c03 button.colab-df-convert');\n",
              "        buttonEl.style.display =\n",
              "          google.colab.kernel.accessAllowed ? 'block' : 'none';\n",
              "\n",
              "        async function convertToInteractive(key) {\n",
              "          const element = document.querySelector('#df-89b66782-b3bf-465d-95a1-0d08a7679c03');\n",
              "          const dataTable =\n",
              "            await google.colab.kernel.invokeFunction('convertToInteractive',\n",
              "                                                     [key], {});\n",
              "          if (!dataTable) return;\n",
              "\n",
              "          const docLinkHtml = 'Like what you see? Visit the ' +\n",
              "            '<a target=\"_blank\" href=https://colab.research.google.com/notebooks/data_table.ipynb>data table notebook</a>'\n",
              "            + ' to learn more about interactive tables.';\n",
              "          element.innerHTML = '';\n",
              "          dataTable['output_type'] = 'display_data';\n",
              "          await google.colab.output.renderOutput(dataTable, element);\n",
              "          const docLink = document.createElement('div');\n",
              "          docLink.innerHTML = docLinkHtml;\n",
              "          element.appendChild(docLink);\n",
              "        }\n",
              "      </script>\n",
              "    </div>\n",
              "  </div>\n",
              "  "
            ]
          },
          "metadata": {},
          "execution_count": 109
        }
      ]
    },
    {
      "cell_type": "code",
      "source": [
        "df_user.head()"
      ],
      "metadata": {
        "colab": {
          "base_uri": "https://localhost:8080/",
          "height": 206
        },
        "id": "K1WyRv7NJifZ",
        "outputId": "a340dc47-d5c5-48b8-f633-fba94e824ad6"
      },
      "execution_count": null,
      "outputs": [
        {
          "output_type": "execute_result",
          "data": {
            "text/plain": [
              "     user_id  gender  age\n",
              "0  548757053  Female   28\n",
              "1  512471699  Female   52\n",
              "2  548430364  Female   65\n",
              "3  558364479  Female   38\n",
              "4  514732843    Male   74"
            ],
            "text/html": [
              "\n",
              "  <div id=\"df-42de338b-bf55-4dc5-89bf-1a61308b9068\">\n",
              "    <div class=\"colab-df-container\">\n",
              "      <div>\n",
              "<style scoped>\n",
              "    .dataframe tbody tr th:only-of-type {\n",
              "        vertical-align: middle;\n",
              "    }\n",
              "\n",
              "    .dataframe tbody tr th {\n",
              "        vertical-align: top;\n",
              "    }\n",
              "\n",
              "    .dataframe thead th {\n",
              "        text-align: right;\n",
              "    }\n",
              "</style>\n",
              "<table border=\"1\" class=\"dataframe\">\n",
              "  <thead>\n",
              "    <tr style=\"text-align: right;\">\n",
              "      <th></th>\n",
              "      <th>user_id</th>\n",
              "      <th>gender</th>\n",
              "      <th>age</th>\n",
              "    </tr>\n",
              "  </thead>\n",
              "  <tbody>\n",
              "    <tr>\n",
              "      <th>0</th>\n",
              "      <td>548757053</td>\n",
              "      <td>Female</td>\n",
              "      <td>28</td>\n",
              "    </tr>\n",
              "    <tr>\n",
              "      <th>1</th>\n",
              "      <td>512471699</td>\n",
              "      <td>Female</td>\n",
              "      <td>52</td>\n",
              "    </tr>\n",
              "    <tr>\n",
              "      <th>2</th>\n",
              "      <td>548430364</td>\n",
              "      <td>Female</td>\n",
              "      <td>65</td>\n",
              "    </tr>\n",
              "    <tr>\n",
              "      <th>3</th>\n",
              "      <td>558364479</td>\n",
              "      <td>Female</td>\n",
              "      <td>38</td>\n",
              "    </tr>\n",
              "    <tr>\n",
              "      <th>4</th>\n",
              "      <td>514732843</td>\n",
              "      <td>Male</td>\n",
              "      <td>74</td>\n",
              "    </tr>\n",
              "  </tbody>\n",
              "</table>\n",
              "</div>\n",
              "      <button class=\"colab-df-convert\" onclick=\"convertToInteractive('df-42de338b-bf55-4dc5-89bf-1a61308b9068')\"\n",
              "              title=\"Convert this dataframe to an interactive table.\"\n",
              "              style=\"display:none;\">\n",
              "        \n",
              "  <svg xmlns=\"http://www.w3.org/2000/svg\" height=\"24px\"viewBox=\"0 0 24 24\"\n",
              "       width=\"24px\">\n",
              "    <path d=\"M0 0h24v24H0V0z\" fill=\"none\"/>\n",
              "    <path d=\"M18.56 5.44l.94 2.06.94-2.06 2.06-.94-2.06-.94-.94-2.06-.94 2.06-2.06.94zm-11 1L8.5 8.5l.94-2.06 2.06-.94-2.06-.94L8.5 2.5l-.94 2.06-2.06.94zm10 10l.94 2.06.94-2.06 2.06-.94-2.06-.94-.94-2.06-.94 2.06-2.06.94z\"/><path d=\"M17.41 7.96l-1.37-1.37c-.4-.4-.92-.59-1.43-.59-.52 0-1.04.2-1.43.59L10.3 9.45l-7.72 7.72c-.78.78-.78 2.05 0 2.83L4 21.41c.39.39.9.59 1.41.59.51 0 1.02-.2 1.41-.59l7.78-7.78 2.81-2.81c.8-.78.8-2.07 0-2.86zM5.41 20L4 18.59l7.72-7.72 1.47 1.35L5.41 20z\"/>\n",
              "  </svg>\n",
              "      </button>\n",
              "      \n",
              "  <style>\n",
              "    .colab-df-container {\n",
              "      display:flex;\n",
              "      flex-wrap:wrap;\n",
              "      gap: 12px;\n",
              "    }\n",
              "\n",
              "    .colab-df-convert {\n",
              "      background-color: #E8F0FE;\n",
              "      border: none;\n",
              "      border-radius: 50%;\n",
              "      cursor: pointer;\n",
              "      display: none;\n",
              "      fill: #1967D2;\n",
              "      height: 32px;\n",
              "      padding: 0 0 0 0;\n",
              "      width: 32px;\n",
              "    }\n",
              "\n",
              "    .colab-df-convert:hover {\n",
              "      background-color: #E2EBFA;\n",
              "      box-shadow: 0px 1px 2px rgba(60, 64, 67, 0.3), 0px 1px 3px 1px rgba(60, 64, 67, 0.15);\n",
              "      fill: #174EA6;\n",
              "    }\n",
              "\n",
              "    [theme=dark] .colab-df-convert {\n",
              "      background-color: #3B4455;\n",
              "      fill: #D2E3FC;\n",
              "    }\n",
              "\n",
              "    [theme=dark] .colab-df-convert:hover {\n",
              "      background-color: #434B5C;\n",
              "      box-shadow: 0px 1px 3px 1px rgba(0, 0, 0, 0.15);\n",
              "      filter: drop-shadow(0px 1px 2px rgba(0, 0, 0, 0.3));\n",
              "      fill: #FFFFFF;\n",
              "    }\n",
              "  </style>\n",
              "\n",
              "      <script>\n",
              "        const buttonEl =\n",
              "          document.querySelector('#df-42de338b-bf55-4dc5-89bf-1a61308b9068 button.colab-df-convert');\n",
              "        buttonEl.style.display =\n",
              "          google.colab.kernel.accessAllowed ? 'block' : 'none';\n",
              "\n",
              "        async function convertToInteractive(key) {\n",
              "          const element = document.querySelector('#df-42de338b-bf55-4dc5-89bf-1a61308b9068');\n",
              "          const dataTable =\n",
              "            await google.colab.kernel.invokeFunction('convertToInteractive',\n",
              "                                                     [key], {});\n",
              "          if (!dataTable) return;\n",
              "\n",
              "          const docLinkHtml = 'Like what you see? Visit the ' +\n",
              "            '<a target=\"_blank\" href=https://colab.research.google.com/notebooks/data_table.ipynb>data table notebook</a>'\n",
              "            + ' to learn more about interactive tables.';\n",
              "          element.innerHTML = '';\n",
              "          dataTable['output_type'] = 'display_data';\n",
              "          await google.colab.output.renderOutput(dataTable, element);\n",
              "          const docLink = document.createElement('div');\n",
              "          docLink.innerHTML = docLinkHtml;\n",
              "          element.appendChild(docLink);\n",
              "        }\n",
              "      </script>\n",
              "    </div>\n",
              "  </div>\n",
              "  "
            ]
          },
          "metadata": {},
          "execution_count": 110
        }
      ]
    },
    {
      "cell_type": "code",
      "source": [
        "df_merge = pd.merge(df_ecomm, df_user, how = 'inner', on= 'user_id')\n",
        "df_merge_session =df_merge.loc[(df_merge['event_type'] == 'view')]\n",
        "df_merge_session_agg = df_merge_session.groupby('gender', as_index = False).agg(num_session = ('user_session', 'nunique'))"
      ],
      "metadata": {
        "id": "HGGqhwe92Ymw"
      },
      "execution_count": null,
      "outputs": []
    },
    {
      "cell_type": "code",
      "source": [
        "plt.figure(figsize=(10, 5))\n",
        "plt.bar(df_merge_session_agg['gender'], df_merge_session_agg['num_session'], color = 'green')"
      ],
      "metadata": {
        "colab": {
          "base_uri": "https://localhost:8080/",
          "height": 337
        },
        "id": "PrYg81-f2oIE",
        "outputId": "33348308-92d4-433d-8796-c850d2f02516"
      },
      "execution_count": null,
      "outputs": [
        {
          "output_type": "execute_result",
          "data": {
            "text/plain": [
              "<BarContainer object of 2 artists>"
            ]
          },
          "metadata": {},
          "execution_count": 116
        },
        {
          "output_type": "display_data",
          "data": {
            "text/plain": [
              "<Figure size 720x360 with 1 Axes>"
            ],
            "image/png": "[encoded data removed]"
          },
          "metadata": {
            "needs_background": "light"
          }
        }
      ]
    },
    {
      "cell_type": "code",
      "source": [
        "# cara lain \n",
        "df_merge = pd.merge(df_ecomm, df_user, how = 'inner', on= 'user_id')\n",
        "df_merge_session =df_merge.loc[(df_merge['event_type'] == 'view')].groupby('gender', as_index = False).agg(num_session = ('user_session', 'nunique'))"
      ],
      "metadata": {
        "id": "Hrz5oqoQUEj2"
      },
      "execution_count": null,
      "outputs": []
    },
    {
      "cell_type": "code",
      "source": [
        "# cara lain\n",
        "fig, ax = plt.subplots(figsize=(10, 5)) \n",
        "ax.bar(df_merge_session['gender'], df_merge_session['num_session'], color = 'g')  \n",
        "\n",
        "ax.set_xlabel('gender')  \n",
        "ax.set_ylabel('session')  \n",
        "ax.set_title(\"Session per gender\") \n"
      ],
      "metadata": {
        "colab": {
          "base_uri": "https://localhost:8080/",
          "height": 367
        },
        "id": "szmbPVS7U_0S",
        "outputId": "1c9971cc-8630-4f3c-e9bf-b2f4b1ffb996"
      },
      "execution_count": null,
      "outputs": [
        {
          "output_type": "execute_result",
          "data": {
            "text/plain": [
              "Text(0.5, 1.0, 'Session per gender')"
            ]
          },
          "metadata": {},
          "execution_count": 118
        },
        {
          "output_type": "display_data",
          "data": {
            "text/plain": [
              "<Figure size 720x360 with 1 Axes>"
            ],
            "image/png": "[encoded data removed]"
          },
          "metadata": {
            "needs_background": "light"
          }
        }
      ]
    },
    {
      "cell_type": "markdown",
      "source": [
        "#### No4 ![image.png](data:image/png;base64,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)"
      ],
      "metadata": {
        "id": "R9ywtK9MVmY3"
      }
    },
    {
      "cell_type": "code",
      "source": [
        "df_ecomm.head()"
      ],
      "metadata": {
        "colab": {
          "base_uri": "https://localhost:8080/",
          "height": 206
        },
        "id": "BSARYeGkLP3a",
        "outputId": "1c2920e4-c923-461e-8bbb-924925314bf6"
      },
      "execution_count": null,
      "outputs": [
        {
          "output_type": "execute_result",
          "data": {
            "text/plain": [
              "   event_date event_type  product_id     category  subcategory   brand  \\\n",
              "0  2019-10-23       view     1600600    computers  peripherals      hp   \n",
              "1  2019-10-28       view     1004238  electronics   smartphone   apple   \n",
              "2  2019-10-31       view     1004566  electronics   smartphone  huawei   \n",
              "3  2019-10-12       view     1003310  electronics   smartphone   apple   \n",
              "4  2019-10-28       view     4804295  electronics        audio  xiaomi   \n",
              "\n",
              "     price    user_id                          user_session  \n",
              "0   148.04  548757053  7b5e86eb-6c9f-4862-b9cb-20b773d64a75  \n",
              "1  1243.79  512471699  7b21fd53-8f8d-44f7-b126-fcb63b4a34df  \n",
              "2   164.88  548430364  2e5a410f-0d20-41c9-82c1-aa1b4dcdd11d  \n",
              "3   696.13  558364479  587402bb-2083-4a8c-a874-f270e3408db1  \n",
              "4    22.86  514732843  52ae3808-c842-4fbd-97a4-ea7c862aef35  "
            ],
            "text/html": [
              "\n",
              "  <div id=\"df-21b43d1c-9ca2-485c-a7fc-b982943d447b\">\n",
              "    <div class=\"colab-df-container\">\n",
              "      <div>\n",
              "<style scoped>\n",
              "    .dataframe tbody tr th:only-of-type {\n",
              "        vertical-align: middle;\n",
              "    }\n",
              "\n",
              "    .dataframe tbody tr th {\n",
              "        vertical-align: top;\n",
              "    }\n",
              "\n",
              "    .dataframe thead th {\n",
              "        text-align: right;\n",
              "    }\n",
              "</style>\n",
              "<table border=\"1\" class=\"dataframe\">\n",
              "  <thead>\n",
              "    <tr style=\"text-align: right;\">\n",
              "      <th></th>\n",
              "      <th>event_date</th>\n",
              "      <th>event_type</th>\n",
              "      <th>product_id</th>\n",
              "      <th>category</th>\n",
              "      <th>subcategory</th>\n",
              "      <th>brand</th>\n",
              "      <th>price</th>\n",
              "      <th>user_id</th>\n",
              "      <th>user_session</th>\n",
              "    </tr>\n",
              "  </thead>\n",
              "  <tbody>\n",
              "    <tr>\n",
              "      <th>0</th>\n",
              "      <td>2019-10-23</td>\n",
              "      <td>view</td>\n",
              "      <td>1600600</td>\n",
              "      <td>computers</td>\n",
              "      <td>peripherals</td>\n",
              "      <td>hp</td>\n",
              "      <td>148.04</td>\n",
              "      <td>548757053</td>\n",
              "      <td>7b5e86eb-6c9f-4862-b9cb-20b773d64a75</td>\n",
              "    </tr>\n",
              "    <tr>\n",
              "      <th>1</th>\n",
              "      <td>2019-10-28</td>\n",
              "      <td>view</td>\n",
              "      <td>1004238</td>\n",
              "      <td>electronics</td>\n",
              "      <td>smartphone</td>\n",
              "      <td>apple</td>\n",
              "      <td>1243.79</td>\n",
              "      <td>512471699</td>\n",
              "      <td>7b21fd53-8f8d-44f7-b126-fcb63b4a34df</td>\n",
              "    </tr>\n",
              "    <tr>\n",
              "      <th>2</th>\n",
              "      <td>2019-10-31</td>\n",
              "      <td>view</td>\n",
              "      <td>1004566</td>\n",
              "      <td>electronics</td>\n",
              "      <td>smartphone</td>\n",
              "      <td>huawei</td>\n",
              "      <td>164.88</td>\n",
              "      <td>548430364</td>\n",
              "      <td>2e5a410f-0d20-41c9-82c1-aa1b4dcdd11d</td>\n",
              "    </tr>\n",
              "    <tr>\n",
              "      <th>3</th>\n",
              "      <td>2019-10-12</td>\n",
              "      <td>view</td>\n",
              "      <td>1003310</td>\n",
              "      <td>electronics</td>\n",
              "      <td>smartphone</td>\n",
              "      <td>apple</td>\n",
              "      <td>696.13</td>\n",
              "      <td>558364479</td>\n",
              "      <td>587402bb-2083-4a8c-a874-f270e3408db1</td>\n",
              "    </tr>\n",
              "    <tr>\n",
              "      <th>4</th>\n",
              "      <td>2019-10-28</td>\n",
              "      <td>view</td>\n",
              "      <td>4804295</td>\n",
              "      <td>electronics</td>\n",
              "      <td>audio</td>\n",
              "      <td>xiaomi</td>\n",
              "      <td>22.86</td>\n",
              "      <td>514732843</td>\n",
              "      <td>52ae3808-c842-4fbd-97a4-ea7c862aef35</td>\n",
              "    </tr>\n",
              "  </tbody>\n",
              "</table>\n",
              "</div>\n",
              "      <button class=\"colab-df-convert\" onclick=\"convertToInteractive('df-21b43d1c-9ca2-485c-a7fc-b982943d447b')\"\n",
              "              title=\"Convert this dataframe to an interactive table.\"\n",
              "              style=\"display:none;\">\n",
              "        \n",
              "  <svg xmlns=\"http://www.w3.org/2000/svg\" height=\"24px\"viewBox=\"0 0 24 24\"\n",
              "       width=\"24px\">\n",
              "    <path d=\"M0 0h24v24H0V0z\" fill=\"none\"/>\n",
              "    <path d=\"M18.56 5.44l.94 2.06.94-2.06 2.06-.94-2.06-.94-.94-2.06-.94 2.06-2.06.94zm-11 1L8.5 8.5l.94-2.06 2.06-.94-2.06-.94L8.5 2.5l-.94 2.06-2.06.94zm10 10l.94 2.06.94-2.06 2.06-.94-2.06-.94-.94-2.06-.94 2.06-2.06.94z\"/><path d=\"M17.41 7.96l-1.37-1.37c-.4-.4-.92-.59-1.43-.59-.52 0-1.04.2-1.43.59L10.3 9.45l-7.72 7.72c-.78.78-.78 2.05 0 2.83L4 21.41c.39.39.9.59 1.41.59.51 0 1.02-.2 1.41-.59l7.78-7.78 2.81-2.81c.8-.78.8-2.07 0-2.86zM5.41 20L4 18.59l7.72-7.72 1.47 1.35L5.41 20z\"/>\n",
              "  </svg>\n",
              "      </button>\n",
              "      \n",
              "  <style>\n",
              "    .colab-df-container {\n",
              "      display:flex;\n",
              "      flex-wrap:wrap;\n",
              "      gap: 12px;\n",
              "    }\n",
              "\n",
              "    .colab-df-convert {\n",
              "      background-color: #E8F0FE;\n",
              "      border: none;\n",
              "      border-radius: 50%;\n",
              "      cursor: pointer;\n",
              "      display: none;\n",
              "      fill: #1967D2;\n",
              "      height: 32px;\n",
              "      padding: 0 0 0 0;\n",
              "      width: 32px;\n",
              "    }\n",
              "\n",
              "    .colab-df-convert:hover {\n",
              "      background-color: #E2EBFA;\n",
              "      box-shadow: 0px 1px 2px rgba(60, 64, 67, 0.3), 0px 1px 3px 1px rgba(60, 64, 67, 0.15);\n",
              "      fill: #174EA6;\n",
              "    }\n",
              "\n",
              "    [theme=dark] .colab-df-convert {\n",
              "      background-color: #3B4455;\n",
              "      fill: #D2E3FC;\n",
              "    }\n",
              "\n",
              "    [theme=dark] .colab-df-convert:hover {\n",
              "      background-color: #434B5C;\n",
              "      box-shadow: 0px 1px 3px 1px rgba(0, 0, 0, 0.15);\n",
              "      filter: drop-shadow(0px 1px 2px rgba(0, 0, 0, 0.3));\n",
              "      fill: #FFFFFF;\n",
              "    }\n",
              "  </style>\n",
              "\n",
              "      <script>\n",
              "        const buttonEl =\n",
              "          document.querySelector('#df-21b43d1c-9ca2-485c-a7fc-b982943d447b button.colab-df-convert');\n",
              "        buttonEl.style.display =\n",
              "          google.colab.kernel.accessAllowed ? 'block' : 'none';\n",
              "\n",
              "        async function convertToInteractive(key) {\n",
              "          const element = document.querySelector('#df-21b43d1c-9ca2-485c-a7fc-b982943d447b');\n",
              "          const dataTable =\n",
              "            await google.colab.kernel.invokeFunction('convertToInteractive',\n",
              "                                                     [key], {});\n",
              "          if (!dataTable) return;\n",
              "\n",
              "          const docLinkHtml = 'Like what you see? Visit the ' +\n",
              "            '<a target=\"_blank\" href=https://colab.research.google.com/notebooks/data_table.ipynb>data table notebook</a>'\n",
              "            + ' to learn more about interactive tables.';\n",
              "          element.innerHTML = '';\n",
              "          dataTable['output_type'] = 'display_data';\n",
              "          await google.colab.output.renderOutput(dataTable, element);\n",
              "          const docLink = document.createElement('div');\n",
              "          docLink.innerHTML = docLinkHtml;\n",
              "          element.appendChild(docLink);\n",
              "        }\n",
              "      </script>\n",
              "    </div>\n",
              "  </div>\n",
              "  "
            ]
          },
          "metadata": {},
          "execution_count": 119
        }
      ]
    },
    {
      "cell_type": "code",
      "source": [
        "df_el =df_ecomm.loc[(df_ecomm['category'] == 'electronics')]"
      ],
      "metadata": {
        "id": "_m9teLjcWrbE"
      },
      "execution_count": null,
      "outputs": []
    },
    {
      "cell_type": "code",
      "source": [
        "plt.hist(df_el['price'])"
      ],
      "metadata": {
        "colab": {
          "base_uri": "https://localhost:8080/",
          "height": 334
        },
        "id": "A10pYvEQ3KSn",
        "outputId": "d429f422-df15-485a-a258-71304a182ab3"
      },
      "execution_count": null,
      "outputs": [
        {
          "output_type": "execute_result",
          "data": {
            "text/plain": [
              "(array([6176., 2397., 1378.,  940.,  342.,  293.,  173.,   56.,   23.,\n",
              "          21.]), array([8.800000e-01, 2.581990e+02, 5.155180e+02, 7.728370e+02,\n",
              "        1.030156e+03, 1.287475e+03, 1.544794e+03, 1.802113e+03,\n",
              "        2.059432e+03, 2.316751e+03, 2.574070e+03]), <a list of 10 Patch objects>)"
            ]
          },
          "metadata": {},
          "execution_count": 120
        },
        {
          "output_type": "display_data",
          "data": {
            "text/plain": [
              "<Figure size 432x288 with 1 Axes>"
            ],
            "image/png": "[encoded data removed]"
          },
          "metadata": {
            "needs_background": "light"
          }
        }
      ]
    },
    {
      "cell_type": "code",
      "source": [
        "# cara lain\n",
        "fig, ax = plt.subplots(figsize=(10, 5)) \n",
        "ax.hist(df_el['price'])  \n",
        "\n",
        "ax.set_xlabel('price')    \n",
        "ax.set_title(\"Electronics price distribution\") \n"
      ],
      "metadata": {
        "colab": {
          "base_uri": "https://localhost:8080/",
          "height": 367
        },
        "id": "x-ndP_vLVpsV",
        "outputId": "cb902b89-91ae-49db-8fb1-0231688a3fcc"
      },
      "execution_count": null,
      "outputs": [
        {
          "output_type": "execute_result",
          "data": {
            "text/plain": [
              "Text(0.5, 1.0, 'Electronics price distribution')"
            ]
          },
          "metadata": {},
          "execution_count": 40
        },
        {
          "output_type": "display_data",
          "data": {
            "text/plain": [
              "<Figure size 720x360 with 1 Axes>"
            ],
            "image/png": "[encoded data removed]"
          },
          "metadata": {
            "needs_background": "light"
          }
        }
      ]
    },
    {
      "cell_type": "markdown",
      "source": [
        "#### No5 ![image.png](data:image/png;base64,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)"
      ],
      "metadata": {
        "id": "M9yBEN2GXZMT"
      }
    },
    {
      "cell_type": "code",
      "source": [
        "df_apple = df_ecomm.loc[(df_ecomm['brand'] == 'apple')]"
      ],
      "metadata": {
        "id": "ME7jTjGLXc5u"
      },
      "execution_count": null,
      "outputs": []
    },
    {
      "cell_type": "code",
      "source": [
        "plt.hist(df_apple['price']) "
      ],
      "metadata": {
        "colab": {
          "base_uri": "https://localhost:8080/",
          "height": 334
        },
        "id": "jB-_C76g3qzI",
        "outputId": "86187559-858a-4fe6-b9d8-d1b296d5f41e"
      },
      "execution_count": null,
      "outputs": [
        {
          "output_type": "execute_result",
          "data": {
            "text/plain": [
              "(array([301., 548., 782., 637., 253., 277., 191.,  24.,  43.,  11.]),\n",
              " array([  22.78 ,  272.735,  522.69 ,  772.645, 1022.6  , 1272.555,\n",
              "        1522.51 , 1772.465, 2022.42 , 2272.375, 2522.33 ]),\n",
              " <a list of 10 Patch objects>)"
            ]
          },
          "metadata": {},
          "execution_count": 121
        },
        {
          "output_type": "display_data",
          "data": {
            "text/plain": [
              "<Figure size 432x288 with 1 Axes>"
            ],
            "image/png": "[encoded data removed]"
          },
          "metadata": {
            "needs_background": "light"
          }
        }
      ]
    },
    {
      "cell_type": "code",
      "source": [
        "# cara lain\n",
        "fig, ax = plt.subplots(figsize=(10, 5)) \n",
        "ax.hist(df_apple['price'])  \n",
        "\n",
        "ax.set_xlabel('price')    \n",
        "ax.set_title(\"Apple price distribution\") \n"
      ],
      "metadata": {
        "colab": {
          "base_uri": "https://localhost:8080/",
          "height": 367
        },
        "id": "raXikgtEXj39",
        "outputId": "8d440b84-f896-4090-afa1-9ea13b737fe0"
      },
      "execution_count": null,
      "outputs": [
        {
          "output_type": "execute_result",
          "data": {
            "text/plain": [
              "Text(0.5, 1.0, 'Apple price distribution')"
            ]
          },
          "metadata": {},
          "execution_count": 42
        },
        {
          "output_type": "display_data",
          "data": {
            "text/plain": [
              "<Figure size 720x360 with 1 Axes>"
            ],
            "image/png": "[encoded data removed]"
          },
          "metadata": {
            "needs_background": "light"
          }
        }
      ]
    },
    {
      "cell_type": "markdown",
      "source": [
        "#### No6 ![image.png](data:image/png;base64,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)"
      ],
      "metadata": {
        "id": "6GIB5D-lXtEd"
      }
    },
    {
      "cell_type": "markdown",
      "source": [
        "1. filter sub kategori smartphone\n",
        "2. "
      ],
      "metadata": {
        "id": "sj7BZWOvNgMB"
      }
    },
    {
      "cell_type": "code",
      "source": [
        "df_smartphone =df_ecomm.loc[(df_ecomm['subcategory'] == 'smartphone')]\n"
      ],
      "metadata": {
        "id": "2xCZfZtx3xAV"
      },
      "execution_count": null,
      "outputs": []
    },
    {
      "cell_type": "code",
      "source": [
        "# data frame . boxplot ( column = kolom_yang_dilihat_distribusinya, by = kategori)\n",
        "df_smartphone.boxplot(column =['price'])\n"
      ],
      "metadata": {
        "colab": {
          "base_uri": "https://localhost:8080/",
          "height": 282
        },
        "id": "SsmmiJjK3yj5",
        "outputId": "e23eaca5-54a3-4894-a7b7-f1b388ce8da3"
      },
      "execution_count": null,
      "outputs": [
        {
          "output_type": "execute_result",
          "data": {
            "text/plain": [
              "<matplotlib.axes._subplots.AxesSubplot at 0x7f68f367c810>"
            ]
          },
          "metadata": {},
          "execution_count": 124
        },
        {
          "output_type": "display_data",
          "data": {
            "text/plain": [
              "<Figure size 432x288 with 1 Axes>"
            ],
            "image/png": "[encoded data removed]"
          },
          "metadata": {
            "needs_background": "light"
          }
        }
      ]
    },
    {
      "cell_type": "code",
      "source": [
        "df_smartphone =df_ecomm.loc[(df_ecomm['subcategory'] == 'smartphone')]\n",
        "\n",
        "df_smartphone.boxplot(column =['price'], by = ['brand'], figsize =(20,5))\n"
      ],
      "metadata": {
        "colab": {
          "base_uri": "https://localhost:8080/",
          "height": 433
        },
        "id": "7EvqfZakXulz",
        "outputId": "c25aa1c0-27cb-4ac6-da9e-e17865ab8e53"
      },
      "execution_count": null,
      "outputs": [
        {
          "output_type": "stream",
          "name": "stderr",
          "text": [
            "/usr/local/lib/python3.7/dist-packages/matplotlib/cbook/__init__.py:1376: VisibleDeprecationWarning: Creating an ndarray from ragged nested sequences (which is a list-or-tuple of lists-or-tuples-or ndarrays with different lengths or shapes) is deprecated. If you meant to do this, you must specify 'dtype=object' when creating the ndarray.\n",
            "  X = np.atleast_1d(X.T if isinstance(X, np.ndarray) else np.asarray(X))\n"
          ]
        },
        {
          "output_type": "execute_result",
          "data": {
            "text/plain": [
              "<matplotlib.axes._subplots.AxesSubplot at 0x7f68f35fce10>"
            ]
          },
          "metadata": {},
          "execution_count": 125
        },
        {
          "output_type": "display_data",
          "data": {
            "text/plain": [
              "<Figure size 1440x360 with 1 Axes>"
            ],
            "image/png": "[encoded data removed]"
          },
          "metadata": {
            "needs_background": "light"
          }
        }
      ]
    },
    {
      "cell_type": "code",
      "source": [
        ""
      ],
      "metadata": {
        "id": "JuIc4F7HX_Yn"
      },
      "execution_count": null,
      "outputs": []
    },
    {
      "cell_type": "markdown",
      "source": [
        "#### No 7 ![image.png](data:image/png;base64,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)"
      ],
      "metadata": {
        "id": "1pL6eklzetm9"
      }
    },
    {
      "cell_type": "code",
      "source": [
        "df_ecomm.head()"
      ],
      "metadata": {
        "colab": {
          "base_uri": "https://localhost:8080/",
          "height": 206
        },
        "id": "r8aBNasKOnre",
        "outputId": "48df30f9-a2d5-4d65-ab82-ab0a15120d55"
      },
      "execution_count": null,
      "outputs": [
        {
          "output_type": "execute_result",
          "data": {
            "text/plain": [
              "   event_date event_type  product_id     category  subcategory   brand  \\\n",
              "0  2019-10-23       view     1600600    computers  peripherals      hp   \n",
              "1  2019-10-28       view     1004238  electronics   smartphone   apple   \n",
              "2  2019-10-31       view     1004566  electronics   smartphone  huawei   \n",
              "3  2019-10-12       view     1003310  electronics   smartphone   apple   \n",
              "4  2019-10-28       view     4804295  electronics        audio  xiaomi   \n",
              "\n",
              "     price    user_id                          user_session  \n",
              "0   148.04  548757053  7b5e86eb-6c9f-4862-b9cb-20b773d64a75  \n",
              "1  1243.79  512471699  7b21fd53-8f8d-44f7-b126-fcb63b4a34df  \n",
              "2   164.88  548430364  2e5a410f-0d20-41c9-82c1-aa1b4dcdd11d  \n",
              "3   696.13  558364479  587402bb-2083-4a8c-a874-f270e3408db1  \n",
              "4    22.86  514732843  52ae3808-c842-4fbd-97a4-ea7c862aef35  "
            ],
            "text/html": [
              "\n",
              "  <div id=\"df-84684749-085f-4dff-967a-1d585d0dcb46\">\n",
              "    <div class=\"colab-df-container\">\n",
              "      <div>\n",
              "<style scoped>\n",
              "    .dataframe tbody tr th:only-of-type {\n",
              "        vertical-align: middle;\n",
              "    }\n",
              "\n",
              "    .dataframe tbody tr th {\n",
              "        vertical-align: top;\n",
              "    }\n",
              "\n",
              "    .dataframe thead th {\n",
              "        text-align: right;\n",
              "    }\n",
              "</style>\n",
              "<table border=\"1\" class=\"dataframe\">\n",
              "  <thead>\n",
              "    <tr style=\"text-align: right;\">\n",
              "      <th></th>\n",
              "      <th>event_date</th>\n",
              "      <th>event_type</th>\n",
              "      <th>product_id</th>\n",
              "      <th>category</th>\n",
              "      <th>subcategory</th>\n",
              "      <th>brand</th>\n",
              "      <th>price</th>\n",
              "      <th>user_id</th>\n",
              "      <th>user_session</th>\n",
              "    </tr>\n",
              "  </thead>\n",
              "  <tbody>\n",
              "    <tr>\n",
              "      <th>0</th>\n",
              "      <td>2019-10-23</td>\n",
              "      <td>view</td>\n",
              "      <td>1600600</td>\n",
              "      <td>computers</td>\n",
              "      <td>peripherals</td>\n",
              "      <td>hp</td>\n",
              "      <td>148.04</td>\n",
              "      <td>548757053</td>\n",
              "      <td>7b5e86eb-6c9f-4862-b9cb-20b773d64a75</td>\n",
              "    </tr>\n",
              "    <tr>\n",
              "      <th>1</th>\n",
              "      <td>2019-10-28</td>\n",
              "      <td>view</td>\n",
              "      <td>1004238</td>\n",
              "      <td>electronics</td>\n",
              "      <td>smartphone</td>\n",
              "      <td>apple</td>\n",
              "      <td>1243.79</td>\n",
              "      <td>512471699</td>\n",
              "      <td>7b21fd53-8f8d-44f7-b126-fcb63b4a34df</td>\n",
              "    </tr>\n",
              "    <tr>\n",
              "      <th>2</th>\n",
              "      <td>2019-10-31</td>\n",
              "      <td>view</td>\n",
              "      <td>1004566</td>\n",
              "      <td>electronics</td>\n",
              "      <td>smartphone</td>\n",
              "      <td>huawei</td>\n",
              "      <td>164.88</td>\n",
              "      <td>548430364</td>\n",
              "      <td>2e5a410f-0d20-41c9-82c1-aa1b4dcdd11d</td>\n",
              "    </tr>\n",
              "    <tr>\n",
              "      <th>3</th>\n",
              "      <td>2019-10-12</td>\n",
              "      <td>view</td>\n",
              "      <td>1003310</td>\n",
              "      <td>electronics</td>\n",
              "      <td>smartphone</td>\n",
              "      <td>apple</td>\n",
              "      <td>696.13</td>\n",
              "      <td>558364479</td>\n",
              "      <td>587402bb-2083-4a8c-a874-f270e3408db1</td>\n",
              "    </tr>\n",
              "    <tr>\n",
              "      <th>4</th>\n",
              "      <td>2019-10-28</td>\n",
              "      <td>view</td>\n",
              "      <td>4804295</td>\n",
              "      <td>electronics</td>\n",
              "      <td>audio</td>\n",
              "      <td>xiaomi</td>\n",
              "      <td>22.86</td>\n",
              "      <td>514732843</td>\n",
              "      <td>52ae3808-c842-4fbd-97a4-ea7c862aef35</td>\n",
              "    </tr>\n",
              "  </tbody>\n",
              "</table>\n",
              "</div>\n",
              "      <button class=\"colab-df-convert\" onclick=\"convertToInteractive('df-84684749-085f-4dff-967a-1d585d0dcb46')\"\n",
              "              title=\"Convert this dataframe to an interactive table.\"\n",
              "              style=\"display:none;\">\n",
              "        \n",
              "  <svg xmlns=\"http://www.w3.org/2000/svg\" height=\"24px\"viewBox=\"0 0 24 24\"\n",
              "       width=\"24px\">\n",
              "    <path d=\"M0 0h24v24H0V0z\" fill=\"none\"/>\n",
              "    <path d=\"M18.56 5.44l.94 2.06.94-2.06 2.06-.94-2.06-.94-.94-2.06-.94 2.06-2.06.94zm-11 1L8.5 8.5l.94-2.06 2.06-.94-2.06-.94L8.5 2.5l-.94 2.06-2.06.94zm10 10l.94 2.06.94-2.06 2.06-.94-2.06-.94-.94-2.06-.94 2.06-2.06.94z\"/><path d=\"M17.41 7.96l-1.37-1.37c-.4-.4-.92-.59-1.43-.59-.52 0-1.04.2-1.43.59L10.3 9.45l-7.72 7.72c-.78.78-.78 2.05 0 2.83L4 21.41c.39.39.9.59 1.41.59.51 0 1.02-.2 1.41-.59l7.78-7.78 2.81-2.81c.8-.78.8-2.07 0-2.86zM5.41 20L4 18.59l7.72-7.72 1.47 1.35L5.41 20z\"/>\n",
              "  </svg>\n",
              "      </button>\n",
              "      \n",
              "  <style>\n",
              "    .colab-df-container {\n",
              "      display:flex;\n",
              "      flex-wrap:wrap;\n",
              "      gap: 12px;\n",
              "    }\n",
              "\n",
              "    .colab-df-convert {\n",
              "      background-color: #E8F0FE;\n",
              "      border: none;\n",
              "      border-radius: 50%;\n",
              "      cursor: pointer;\n",
              "      display: none;\n",
              "      fill: #1967D2;\n",
              "      height: 32px;\n",
              "      padding: 0 0 0 0;\n",
              "      width: 32px;\n",
              "    }\n",
              "\n",
              "    .colab-df-convert:hover {\n",
              "      background-color: #E2EBFA;\n",
              "      box-shadow: 0px 1px 2px rgba(60, 64, 67, 0.3), 0px 1px 3px 1px rgba(60, 64, 67, 0.15);\n",
              "      fill: #174EA6;\n",
              "    }\n",
              "\n",
              "    [theme=dark] .colab-df-convert {\n",
              "      background-color: #3B4455;\n",
              "      fill: #D2E3FC;\n",
              "    }\n",
              "\n",
              "    [theme=dark] .colab-df-convert:hover {\n",
              "      background-color: #434B5C;\n",
              "      box-shadow: 0px 1px 3px 1px rgba(0, 0, 0, 0.15);\n",
              "      filter: drop-shadow(0px 1px 2px rgba(0, 0, 0, 0.3));\n",
              "      fill: #FFFFFF;\n",
              "    }\n",
              "  </style>\n",
              "\n",
              "      <script>\n",
              "        const buttonEl =\n",
              "          document.querySelector('#df-84684749-085f-4dff-967a-1d585d0dcb46 button.colab-df-convert');\n",
              "        buttonEl.style.display =\n",
              "          google.colab.kernel.accessAllowed ? 'block' : 'none';\n",
              "\n",
              "        async function convertToInteractive(key) {\n",
              "          const element = document.querySelector('#df-84684749-085f-4dff-967a-1d585d0dcb46');\n",
              "          const dataTable =\n",
              "            await google.colab.kernel.invokeFunction('convertToInteractive',\n",
              "                                                     [key], {});\n",
              "          if (!dataTable) return;\n",
              "\n",
              "          const docLinkHtml = 'Like what you see? Visit the ' +\n",
              "            '<a target=\"_blank\" href=https://colab.research.google.com/notebooks/data_table.ipynb>data table notebook</a>'\n",
              "            + ' to learn more about interactive tables.';\n",
              "          element.innerHTML = '';\n",
              "          dataTable['output_type'] = 'display_data';\n",
              "          await google.colab.output.renderOutput(dataTable, element);\n",
              "          const docLink = document.createElement('div');\n",
              "          docLink.innerHTML = docLinkHtml;\n",
              "          element.appendChild(docLink);\n",
              "        }\n",
              "      </script>\n",
              "    </div>\n",
              "  </div>\n",
              "  "
            ]
          },
          "metadata": {},
          "execution_count": 126
        }
      ]
    },
    {
      "cell_type": "markdown",
      "source": [
        "1. join\n",
        "2. "
      ],
      "metadata": {
        "id": "CnpNaJrWOsEe"
      }
    },
    {
      "cell_type": "code",
      "source": [
        "df_merge = pd.merge(df_ecomm, df_user, how = 'inner', on= 'user_id')"
      ],
      "metadata": {
        "id": "_qP3aCUtevTa"
      },
      "execution_count": null,
      "outputs": []
    },
    {
      "cell_type": "code",
      "source": [
        "plt.figure(figsize=(10,5))\n",
        "plt.scatter(df_merge['age'], df_merge['price'])"
      ],
      "metadata": {
        "colab": {
          "base_uri": "https://localhost:8080/",
          "height": 337
        },
        "id": "TKqio3Ie69tz",
        "outputId": "2481e585-db82-42bd-e99c-1de5b6d2d294"
      },
      "execution_count": null,
      "outputs": [
        {
          "output_type": "execute_result",
          "data": {
            "text/plain": [
              "<matplotlib.collections.PathCollection at 0x7f68f3ae87d0>"
            ]
          },
          "metadata": {},
          "execution_count": 128
        },
        {
          "output_type": "display_data",
          "data": {
            "text/plain": [
              "<Figure size 720x360 with 1 Axes>"
            ],
            "image/png": "[encoded data removed]"
          },
          "metadata": {
            "needs_background": "light"
          }
        }
      ]
    },
    {
      "cell_type": "code",
      "source": [
        "df_merge[['age','price']].corr()"
      ],
      "metadata": {
        "colab": {
          "base_uri": "https://localhost:8080/",
          "height": 112
        },
        "id": "l1Qfp0Cc7ETT",
        "outputId": "7cc9bf57-afb7-40d2-d3b2-9ba833aed1cd"
      },
      "execution_count": null,
      "outputs": [
        {
          "output_type": "execute_result",
          "data": {
            "text/plain": [
              "            age     price\n",
              "age    1.000000 -0.004754\n",
              "price -0.004754  1.000000"
            ],
            "text/html": [
              "\n",
              "  <div id=\"df-6a7144e0-fa0d-4797-a1b7-c82d05fc55b0\">\n",
              "    <div class=\"colab-df-container\">\n",
              "      <div>\n",
              "<style scoped>\n",
              "    .dataframe tbody tr th:only-of-type {\n",
              "        vertical-align: middle;\n",
              "    }\n",
              "\n",
              "    .dataframe tbody tr th {\n",
              "        vertical-align: top;\n",
              "    }\n",
              "\n",
              "    .dataframe thead th {\n",
              "        text-align: right;\n",
              "    }\n",
              "</style>\n",
              "<table border=\"1\" class=\"dataframe\">\n",
              "  <thead>\n",
              "    <tr style=\"text-align: right;\">\n",
              "      <th></th>\n",
              "      <th>age</th>\n",
              "      <th>price</th>\n",
              "    </tr>\n",
              "  </thead>\n",
              "  <tbody>\n",
              "    <tr>\n",
              "      <th>age</th>\n",
              "      <td>1.000000</td>\n",
              "      <td>-0.004754</td>\n",
              "    </tr>\n",
              "    <tr>\n",
              "      <th>price</th>\n",
              "      <td>-0.004754</td>\n",
              "      <td>1.000000</td>\n",
              "    </tr>\n",
              "  </tbody>\n",
              "</table>\n",
              "</div>\n",
              "      <button class=\"colab-df-convert\" onclick=\"convertToInteractive('df-6a7144e0-fa0d-4797-a1b7-c82d05fc55b0')\"\n",
              "              title=\"Convert this dataframe to an interactive table.\"\n",
              "              style=\"display:none;\">\n",
              "        \n",
              "  <svg xmlns=\"http://www.w3.org/2000/svg\" height=\"24px\"viewBox=\"0 0 24 24\"\n",
              "       width=\"24px\">\n",
              "    <path d=\"M0 0h24v24H0V0z\" fill=\"none\"/>\n",
              "    <path d=\"M18.56 5.44l.94 2.06.94-2.06 2.06-.94-2.06-.94-.94-2.06-.94 2.06-2.06.94zm-11 1L8.5 8.5l.94-2.06 2.06-.94-2.06-.94L8.5 2.5l-.94 2.06-2.06.94zm10 10l.94 2.06.94-2.06 2.06-.94-2.06-.94-.94-2.06-.94 2.06-2.06.94z\"/><path d=\"M17.41 7.96l-1.37-1.37c-.4-.4-.92-.59-1.43-.59-.52 0-1.04.2-1.43.59L10.3 9.45l-7.72 7.72c-.78.78-.78 2.05 0 2.83L4 21.41c.39.39.9.59 1.41.59.51 0 1.02-.2 1.41-.59l7.78-7.78 2.81-2.81c.8-.78.8-2.07 0-2.86zM5.41 20L4 18.59l7.72-7.72 1.47 1.35L5.41 20z\"/>\n",
              "  </svg>\n",
              "      </button>\n",
              "      \n",
              "  <style>\n",
              "    .colab-df-container {\n",
              "      display:flex;\n",
              "      flex-wrap:wrap;\n",
              "      gap: 12px;\n",
              "    }\n",
              "\n",
              "    .colab-df-convert {\n",
              "      background-color: #E8F0FE;\n",
              "      border: none;\n",
              "      border-radius: 50%;\n",
              "      cursor: pointer;\n",
              "      display: none;\n",
              "      fill: #1967D2;\n",
              "      height: 32px;\n",
              "      padding: 0 0 0 0;\n",
              "      width: 32px;\n",
              "    }\n",
              "\n",
              "    .colab-df-convert:hover {\n",
              "      background-color: #E2EBFA;\n",
              "      box-shadow: 0px 1px 2px rgba(60, 64, 67, 0.3), 0px 1px 3px 1px rgba(60, 64, 67, 0.15);\n",
              "      fill: #174EA6;\n",
              "    }\n",
              "\n",
              "    [theme=dark] .colab-df-convert {\n",
              "      background-color: #3B4455;\n",
              "      fill: #D2E3FC;\n",
              "    }\n",
              "\n",
              "    [theme=dark] .colab-df-convert:hover {\n",
              "      background-color: #434B5C;\n",
              "      box-shadow: 0px 1px 3px 1px rgba(0, 0, 0, 0.15);\n",
              "      filter: drop-shadow(0px 1px 2px rgba(0, 0, 0, 0.3));\n",
              "      fill: #FFFFFF;\n",
              "    }\n",
              "  </style>\n",
              "\n",
              "      <script>\n",
              "        const buttonEl =\n",
              "          document.querySelector('#df-6a7144e0-fa0d-4797-a1b7-c82d05fc55b0 button.colab-df-convert');\n",
              "        buttonEl.style.display =\n",
              "          google.colab.kernel.accessAllowed ? 'block' : 'none';\n",
              "\n",
              "        async function convertToInteractive(key) {\n",
              "          const element = document.querySelector('#df-6a7144e0-fa0d-4797-a1b7-c82d05fc55b0');\n",
              "          const dataTable =\n",
              "            await google.colab.kernel.invokeFunction('convertToInteractive',\n",
              "                                                     [key], {});\n",
              "          if (!dataTable) return;\n",
              "\n",
              "          const docLinkHtml = 'Like what you see? Visit the ' +\n",
              "            '<a target=\"_blank\" href=https://colab.research.google.com/notebooks/data_table.ipynb>data table notebook</a>'\n",
              "            + ' to learn more about interactive tables.';\n",
              "          element.innerHTML = '';\n",
              "          dataTable['output_type'] = 'display_data';\n",
              "          await google.colab.output.renderOutput(dataTable, element);\n",
              "          const docLink = document.createElement('div');\n",
              "          docLink.innerHTML = docLinkHtml;\n",
              "          element.appendChild(docLink);\n",
              "        }\n",
              "      </script>\n",
              "    </div>\n",
              "  </div>\n",
              "  "
            ]
          },
          "metadata": {},
          "execution_count": 77
        }
      ]
    },
    {
      "cell_type": "code",
      "source": [
        "# cara lain\n",
        "fig, ax = plt.subplots(figsize=(10, 5)) \n",
        "ax.scatter(df_merge['age'], df_merge['price'])  \n",
        "\n",
        "ax.set_xlabel('age')    \n",
        "ax.set_ylabel('price')    \n",
        "ax.set_title(\"Price and Age relation\") \n"
      ],
      "metadata": {
        "colab": {
          "base_uri": "https://localhost:8080/",
          "height": 367
        },
        "id": "buh9bDHVe087",
        "outputId": "3d87ac59-3eae-4689-f53f-425747011ded"
      },
      "execution_count": null,
      "outputs": [
        {
          "output_type": "execute_result",
          "data": {
            "text/plain": [
              "Text(0.5, 1.0, 'Price and Age relation')"
            ]
          },
          "metadata": {},
          "execution_count": 129
        },
        {
          "output_type": "display_data",
          "data": {
            "text/plain": [
              "<Figure size 720x360 with 1 Axes>"
            ],
            "image/png": "[encoded data removed]"
          },
          "metadata": {
            "needs_background": "light"
          }
        }
      ]
    },
    {
      "cell_type": "markdown",
      "source": [
        "#### No8 ![image.png](data:image/png;base64,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)"
      ],
      "metadata": {
        "id": "yFG2uM0EfRqr"
      }
    },
    {
      "cell_type": "markdown",
      "source": [
        "Tabel total session purchase\n",
        "1. filter event type = purchase\n",
        "2. aggregate total session tiap hari\n",
        "\n",
        "tabel total sesson view\n",
        "1. filter event type = view\n",
        "2. aggregate total session tiap hari\n",
        "\n",
        "final tabel\n",
        "pembagian antara total session purchase dg total session view"
      ],
      "metadata": {
        "id": "s3B78qFsP5Ly"
      }
    },
    {
      "cell_type": "code",
      "source": [
        "df_purchase_daily =df_ecomm.loc[df_ecomm['event_type'] == 'purchase'].groupby('event_date', as_index = False).agg(num_session_purchase = ('user_session', 'nunique'))\n",
        "\n",
        "df_view_daily =df_ecomm.loc[df_ecomm['event_type'] == 'view'].groupby('event_date', as_index = False).agg(num_session_view = ('user_session', 'nunique')\n",
        ")\n",
        "\n",
        "df_merge_daily = pd.merge(df_purchase_daily, df_view_daily,  how = 'inner', on= 'event_date').sort_values('event_date')\n",
        "\n",
        "df_merge_daily['conversion_rate'] = df_merge_daily['num_session_purchase']/df_merge_daily['num_session_view']"
      ],
      "metadata": {
        "id": "pE3Gt49zfAKl"
      },
      "execution_count": null,
      "outputs": []
    },
    {
      "cell_type": "code",
      "source": [
        "df_purchase_daily.head()"
      ],
      "metadata": {
        "colab": {
          "base_uri": "https://localhost:8080/",
          "height": 206
        },
        "id": "ZGzRMZ7rREaR",
        "outputId": "b3625a42-c172-4e47-976f-49bd3e71d770"
      },
      "execution_count": null,
      "outputs": [
        {
          "output_type": "execute_result",
          "data": {
            "text/plain": [
              "   event_date  num_session_purchase\n",
              "0  2019-10-01                     6\n",
              "1  2019-10-02                     8\n",
              "2  2019-10-03                    12\n",
              "3  2019-10-04                    21\n",
              "4  2019-10-05                    15"
            ],
            "text/html": [
              "\n",
              "  <div id=\"df-de2c04ad-79b9-4174-863a-93cd61745c36\">\n",
              "    <div class=\"colab-df-container\">\n",
              "      <div>\n",
              "<style scoped>\n",
              "    .dataframe tbody tr th:only-of-type {\n",
              "        vertical-align: middle;\n",
              "    }\n",
              "\n",
              "    .dataframe tbody tr th {\n",
              "        vertical-align: top;\n",
              "    }\n",
              "\n",
              "    .dataframe thead th {\n",
              "        text-align: right;\n",
              "    }\n",
              "</style>\n",
              "<table border=\"1\" class=\"dataframe\">\n",
              "  <thead>\n",
              "    <tr style=\"text-align: right;\">\n",
              "      <th></th>\n",
              "      <th>event_date</th>\n",
              "      <th>num_session_purchase</th>\n",
              "    </tr>\n",
              "  </thead>\n",
              "  <tbody>\n",
              "    <tr>\n",
              "      <th>0</th>\n",
              "      <td>2019-10-01</td>\n",
              "      <td>6</td>\n",
              "    </tr>\n",
              "    <tr>\n",
              "      <th>1</th>\n",
              "      <td>2019-10-02</td>\n",
              "      <td>8</td>\n",
              "    </tr>\n",
              "    <tr>\n",
              "      <th>2</th>\n",
              "      <td>2019-10-03</td>\n",
              "      <td>12</td>\n",
              "    </tr>\n",
              "    <tr>\n",
              "      <th>3</th>\n",
              "      <td>2019-10-04</td>\n",
              "      <td>21</td>\n",
              "    </tr>\n",
              "    <tr>\n",
              "      <th>4</th>\n",
              "      <td>2019-10-05</td>\n",
              "      <td>15</td>\n",
              "    </tr>\n",
              "  </tbody>\n",
              "</table>\n",
              "</div>\n",
              "      <button class=\"colab-df-convert\" onclick=\"convertToInteractive('df-de2c04ad-79b9-4174-863a-93cd61745c36')\"\n",
              "              title=\"Convert this dataframe to an interactive table.\"\n",
              "              style=\"display:none;\">\n",
              "        \n",
              "  <svg xmlns=\"http://www.w3.org/2000/svg\" height=\"24px\"viewBox=\"0 0 24 24\"\n",
              "       width=\"24px\">\n",
              "    <path d=\"M0 0h24v24H0V0z\" fill=\"none\"/>\n",
              "    <path d=\"M18.56 5.44l.94 2.06.94-2.06 2.06-.94-2.06-.94-.94-2.06-.94 2.06-2.06.94zm-11 1L8.5 8.5l.94-2.06 2.06-.94-2.06-.94L8.5 2.5l-.94 2.06-2.06.94zm10 10l.94 2.06.94-2.06 2.06-.94-2.06-.94-.94-2.06-.94 2.06-2.06.94z\"/><path d=\"M17.41 7.96l-1.37-1.37c-.4-.4-.92-.59-1.43-.59-.52 0-1.04.2-1.43.59L10.3 9.45l-7.72 7.72c-.78.78-.78 2.05 0 2.83L4 21.41c.39.39.9.59 1.41.59.51 0 1.02-.2 1.41-.59l7.78-7.78 2.81-2.81c.8-.78.8-2.07 0-2.86zM5.41 20L4 18.59l7.72-7.72 1.47 1.35L5.41 20z\"/>\n",
              "  </svg>\n",
              "      </button>\n",
              "      \n",
              "  <style>\n",
              "    .colab-df-container {\n",
              "      display:flex;\n",
              "      flex-wrap:wrap;\n",
              "      gap: 12px;\n",
              "    }\n",
              "\n",
              "    .colab-df-convert {\n",
              "      background-color: #E8F0FE;\n",
              "      border: none;\n",
              "      border-radius: 50%;\n",
              "      cursor: pointer;\n",
              "      display: none;\n",
              "      fill: #1967D2;\n",
              "      height: 32px;\n",
              "      padding: 0 0 0 0;\n",
              "      width: 32px;\n",
              "    }\n",
              "\n",
              "    .colab-df-convert:hover {\n",
              "      background-color: #E2EBFA;\n",
              "      box-shadow: 0px 1px 2px rgba(60, 64, 67, 0.3), 0px 1px 3px 1px rgba(60, 64, 67, 0.15);\n",
              "      fill: #174EA6;\n",
              "    }\n",
              "\n",
              "    [theme=dark] .colab-df-convert {\n",
              "      background-color: #3B4455;\n",
              "      fill: #D2E3FC;\n",
              "    }\n",
              "\n",
              "    [theme=dark] .colab-df-convert:hover {\n",
              "      background-color: #434B5C;\n",
              "      box-shadow: 0px 1px 3px 1px rgba(0, 0, 0, 0.15);\n",
              "      filter: drop-shadow(0px 1px 2px rgba(0, 0, 0, 0.3));\n",
              "      fill: #FFFFFF;\n",
              "    }\n",
              "  </style>\n",
              "\n",
              "      <script>\n",
              "        const buttonEl =\n",
              "          document.querySelector('#df-de2c04ad-79b9-4174-863a-93cd61745c36 button.colab-df-convert');\n",
              "        buttonEl.style.display =\n",
              "          google.colab.kernel.accessAllowed ? 'block' : 'none';\n",
              "\n",
              "        async function convertToInteractive(key) {\n",
              "          const element = document.querySelector('#df-de2c04ad-79b9-4174-863a-93cd61745c36');\n",
              "          const dataTable =\n",
              "            await google.colab.kernel.invokeFunction('convertToInteractive',\n",
              "                                                     [key], {});\n",
              "          if (!dataTable) return;\n",
              "\n",
              "          const docLinkHtml = 'Like what you see? Visit the ' +\n",
              "            '<a target=\"_blank\" href=https://colab.research.google.com/notebooks/data_table.ipynb>data table notebook</a>'\n",
              "            + ' to learn more about interactive tables.';\n",
              "          element.innerHTML = '';\n",
              "          dataTable['output_type'] = 'display_data';\n",
              "          await google.colab.output.renderOutput(dataTable, element);\n",
              "          const docLink = document.createElement('div');\n",
              "          docLink.innerHTML = docLinkHtml;\n",
              "          element.appendChild(docLink);\n",
              "        }\n",
              "      </script>\n",
              "    </div>\n",
              "  </div>\n",
              "  "
            ]
          },
          "metadata": {},
          "execution_count": 130
        }
      ]
    },
    {
      "cell_type": "code",
      "source": [
        "df_view_daily.head()"
      ],
      "metadata": {
        "colab": {
          "base_uri": "https://localhost:8080/",
          "height": 206
        },
        "id": "3kVuWC0lRJQx",
        "outputId": "ee55abac-2756-4a06-8eb7-000793a61d98"
      },
      "execution_count": null,
      "outputs": [
        {
          "output_type": "execute_result",
          "data": {
            "text/plain": [
              "   event_date  num_session_view\n",
              "0  2019-10-01               591\n",
              "1  2019-10-02               511\n",
              "2  2019-10-03               525\n",
              "3  2019-10-04               662\n",
              "4  2019-10-05               622"
            ],
            "text/html": [
              "\n",
              "  <div id=\"df-db911a35-17dd-42d4-904d-4551d6c610c3\">\n",
              "    <div class=\"colab-df-container\">\n",
              "      <div>\n",
              "<style scoped>\n",
              "    .dataframe tbody tr th:only-of-type {\n",
              "        vertical-align: middle;\n",
              "    }\n",
              "\n",
              "    .dataframe tbody tr th {\n",
              "        vertical-align: top;\n",
              "    }\n",
              "\n",
              "    .dataframe thead th {\n",
              "        text-align: right;\n",
              "    }\n",
              "</style>\n",
              "<table border=\"1\" class=\"dataframe\">\n",
              "  <thead>\n",
              "    <tr style=\"text-align: right;\">\n",
              "      <th></th>\n",
              "      <th>event_date</th>\n",
              "      <th>num_session_view</th>\n",
              "    </tr>\n",
              "  </thead>\n",
              "  <tbody>\n",
              "    <tr>\n",
              "      <th>0</th>\n",
              "      <td>2019-10-01</td>\n",
              "      <td>591</td>\n",
              "    </tr>\n",
              "    <tr>\n",
              "      <th>1</th>\n",
              "      <td>2019-10-02</td>\n",
              "      <td>511</td>\n",
              "    </tr>\n",
              "    <tr>\n",
              "      <th>2</th>\n",
              "      <td>2019-10-03</td>\n",
              "      <td>525</td>\n",
              "    </tr>\n",
              "    <tr>\n",
              "      <th>3</th>\n",
              "      <td>2019-10-04</td>\n",
              "      <td>662</td>\n",
              "    </tr>\n",
              "    <tr>\n",
              "      <th>4</th>\n",
              "      <td>2019-10-05</td>\n",
              "      <td>622</td>\n",
              "    </tr>\n",
              "  </tbody>\n",
              "</table>\n",
              "</div>\n",
              "      <button class=\"colab-df-convert\" onclick=\"convertToInteractive('df-db911a35-17dd-42d4-904d-4551d6c610c3')\"\n",
              "              title=\"Convert this dataframe to an interactive table.\"\n",
              "              style=\"display:none;\">\n",
              "        \n",
              "  <svg xmlns=\"http://www.w3.org/2000/svg\" height=\"24px\"viewBox=\"0 0 24 24\"\n",
              "       width=\"24px\">\n",
              "    <path d=\"M0 0h24v24H0V0z\" fill=\"none\"/>\n",
              "    <path d=\"M18.56 5.44l.94 2.06.94-2.06 2.06-.94-2.06-.94-.94-2.06-.94 2.06-2.06.94zm-11 1L8.5 8.5l.94-2.06 2.06-.94-2.06-.94L8.5 2.5l-.94 2.06-2.06.94zm10 10l.94 2.06.94-2.06 2.06-.94-2.06-.94-.94-2.06-.94 2.06-2.06.94z\"/><path d=\"M17.41 7.96l-1.37-1.37c-.4-.4-.92-.59-1.43-.59-.52 0-1.04.2-1.43.59L10.3 9.45l-7.72 7.72c-.78.78-.78 2.05 0 2.83L4 21.41c.39.39.9.59 1.41.59.51 0 1.02-.2 1.41-.59l7.78-7.78 2.81-2.81c.8-.78.8-2.07 0-2.86zM5.41 20L4 18.59l7.72-7.72 1.47 1.35L5.41 20z\"/>\n",
              "  </svg>\n",
              "      </button>\n",
              "      \n",
              "  <style>\n",
              "    .colab-df-container {\n",
              "      display:flex;\n",
              "      flex-wrap:wrap;\n",
              "      gap: 12px;\n",
              "    }\n",
              "\n",
              "    .colab-df-convert {\n",
              "      background-color: #E8F0FE;\n",
              "      border: none;\n",
              "      border-radius: 50%;\n",
              "      cursor: pointer;\n",
              "      display: none;\n",
              "      fill: #1967D2;\n",
              "      height: 32px;\n",
              "      padding: 0 0 0 0;\n",
              "      width: 32px;\n",
              "    }\n",
              "\n",
              "    .colab-df-convert:hover {\n",
              "      background-color: #E2EBFA;\n",
              "      box-shadow: 0px 1px 2px rgba(60, 64, 67, 0.3), 0px 1px 3px 1px rgba(60, 64, 67, 0.15);\n",
              "      fill: #174EA6;\n",
              "    }\n",
              "\n",
              "    [theme=dark] .colab-df-convert {\n",
              "      background-color: #3B4455;\n",
              "      fill: #D2E3FC;\n",
              "    }\n",
              "\n",
              "    [theme=dark] .colab-df-convert:hover {\n",
              "      background-color: #434B5C;\n",
              "      box-shadow: 0px 1px 3px 1px rgba(0, 0, 0, 0.15);\n",
              "      filter: drop-shadow(0px 1px 2px rgba(0, 0, 0, 0.3));\n",
              "      fill: #FFFFFF;\n",
              "    }\n",
              "  </style>\n",
              "\n",
              "      <script>\n",
              "        const buttonEl =\n",
              "          document.querySelector('#df-db911a35-17dd-42d4-904d-4551d6c610c3 button.colab-df-convert');\n",
              "        buttonEl.style.display =\n",
              "          google.colab.kernel.accessAllowed ? 'block' : 'none';\n",
              "\n",
              "        async function convertToInteractive(key) {\n",
              "          const element = document.querySelector('#df-db911a35-17dd-42d4-904d-4551d6c610c3');\n",
              "          const dataTable =\n",
              "            await google.colab.kernel.invokeFunction('convertToInteractive',\n",
              "                                                     [key], {});\n",
              "          if (!dataTable) return;\n",
              "\n",
              "          const docLinkHtml = 'Like what you see? Visit the ' +\n",
              "            '<a target=\"_blank\" href=https://colab.research.google.com/notebooks/data_table.ipynb>data table notebook</a>'\n",
              "            + ' to learn more about interactive tables.';\n",
              "          element.innerHTML = '';\n",
              "          dataTable['output_type'] = 'display_data';\n",
              "          await google.colab.output.renderOutput(dataTable, element);\n",
              "          const docLink = document.createElement('div');\n",
              "          docLink.innerHTML = docLinkHtml;\n",
              "          element.appendChild(docLink);\n",
              "        }\n",
              "      </script>\n",
              "    </div>\n",
              "  </div>\n",
              "  "
            ]
          },
          "metadata": {},
          "execution_count": 131
        }
      ]
    },
    {
      "cell_type": "code",
      "source": [
        "plt.plot(df_merge_daily['event_date'], df_merge_daily['conversion_rate'])"
      ],
      "metadata": {
        "colab": {
          "base_uri": "https://localhost:8080/",
          "height": 282
        },
        "id": "L0J-NUMl9XtL",
        "outputId": "dbe7924e-6f22-4df1-fc3b-cd6d81cf4c3b"
      },
      "execution_count": null,
      "outputs": [
        {
          "output_type": "execute_result",
          "data": {
            "text/plain": [
              "[<matplotlib.lines.Line2D at 0x7f68f31ef210>]"
            ]
          },
          "metadata": {},
          "execution_count": 132
        },
        {
          "output_type": "display_data",
          "data": {
            "text/plain": [
              "<Figure size 432x288 with 1 Axes>"
            ],
            "image/png": "[encoded data removed]"
          },
          "metadata": {
            "needs_background": "light"
          }
        }
      ]
    },
    {
      "cell_type": "code",
      "source": [
        "# cara lain\n",
        "fig, ax = plt.subplots(figsize=(10, 5)) \n",
        "ax.plot(df_merge_daily['event_date'], df_merge_daily['conversion_rate'])  \n",
        "\n",
        "\n",
        "ax.set_xlabel('event_date')  \n",
        "ax.set_ylabel('conversion_rate')  \n",
        "ax.set_title(\"Daily conversion rate\") "
      ],
      "metadata": {
        "colab": {
          "base_uri": "https://localhost:8080/",
          "height": 368
        },
        "id": "vHdg04BHhCIB",
        "outputId": "74cd5b75-9e22-4235-f188-a77faedc6ab1"
      },
      "execution_count": null,
      "outputs": [
        {
          "output_type": "execute_result",
          "data": {
            "text/plain": [
              "Text(0.5, 1.0, 'Daily conversion rate')"
            ]
          },
          "metadata": {},
          "execution_count": 73
        },
        {
          "output_type": "display_data",
          "data": {
            "text/plain": [
              "<Figure size 720x360 with 1 Axes>"
            ],
            "image/png": "[encoded data removed]"
          },
          "metadata": {
            "needs_background": "light"
          }
        }
      ]
    },
    {
      "cell_type": "markdown",
      "source": [
        "#### No9 ![image.png](data:image/png;base64,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)"
      ],
      "metadata": {
        "id": "AkmlYQnEiNaG"
      }
    },
    {
      "cell_type": "code",
      "source": [
        "df_purchase_cat =df_ecomm.loc[df_ecomm['event_type'] == 'purchase'].groupby('category', as_index = False).agg(num_session_purchase = ('user_session', 'nunique')\n",
        ")\n",
        "\n",
        "df_view_cat =df_ecomm.loc[df_ecomm['event_type'] == 'view'].groupby('category', as_index = False).agg(num_session_view = ('user_session', 'nunique')\n",
        ")\n",
        "\n",
        "df_merge_cat = pd.merge(df_purchase_cat, df_view_cat,  how = 'inner', on= 'category').sort_values('category')\n",
        "\n",
        "df_merge_cat['conversion_rate'] = df_merge_cat['num_session_purchase']/df_merge_cat['num_session_view']"
      ],
      "metadata": {
        "id": "nejhk8DOh8W_"
      },
      "execution_count": null,
      "outputs": []
    },
    {
      "cell_type": "code",
      "source": [
        "df_purchase_cat.head()"
      ],
      "metadata": {
        "colab": {
          "base_uri": "https://localhost:8080/",
          "height": 206
        },
        "id": "sBAJtobFSx7I",
        "outputId": "8cab10c8-de82-4bcd-c048-9cb68829b762"
      },
      "execution_count": null,
      "outputs": [
        {
          "output_type": "execute_result",
          "data": {
            "text/plain": [
              "       category  num_session_purchase\n",
              "0       apparel                     6\n",
              "1    appliances                    63\n",
              "2          auto                     5\n",
              "3     computers                    14\n",
              "4  construction                     4"
            ],
            "text/html": [
              "\n",
              "  <div id=\"df-7b557686-230c-4485-a6a5-f5e92246ec45\">\n",
              "    <div class=\"colab-df-container\">\n",
              "      <div>\n",
              "<style scoped>\n",
              "    .dataframe tbody tr th:only-of-type {\n",
              "        vertical-align: middle;\n",
              "    }\n",
              "\n",
              "    .dataframe tbody tr th {\n",
              "        vertical-align: top;\n",
              "    }\n",
              "\n",
              "    .dataframe thead th {\n",
              "        text-align: right;\n",
              "    }\n",
              "</style>\n",
              "<table border=\"1\" class=\"dataframe\">\n",
              "  <thead>\n",
              "    <tr style=\"text-align: right;\">\n",
              "      <th></th>\n",
              "      <th>category</th>\n",
              "      <th>num_session_purchase</th>\n",
              "    </tr>\n",
              "  </thead>\n",
              "  <tbody>\n",
              "    <tr>\n",
              "      <th>0</th>\n",
              "      <td>apparel</td>\n",
              "      <td>6</td>\n",
              "    </tr>\n",
              "    <tr>\n",
              "      <th>1</th>\n",
              "      <td>appliances</td>\n",
              "      <td>63</td>\n",
              "    </tr>\n",
              "    <tr>\n",
              "      <th>2</th>\n",
              "      <td>auto</td>\n",
              "      <td>5</td>\n",
              "    </tr>\n",
              "    <tr>\n",
              "      <th>3</th>\n",
              "      <td>computers</td>\n",
              "      <td>14</td>\n",
              "    </tr>\n",
              "    <tr>\n",
              "      <th>4</th>\n",
              "      <td>construction</td>\n",
              "      <td>4</td>\n",
              "    </tr>\n",
              "  </tbody>\n",
              "</table>\n",
              "</div>\n",
              "      <button class=\"colab-df-convert\" onclick=\"convertToInteractive('df-7b557686-230c-4485-a6a5-f5e92246ec45')\"\n",
              "              title=\"Convert this dataframe to an interactive table.\"\n",
              "              style=\"display:none;\">\n",
              "        \n",
              "  <svg xmlns=\"http://www.w3.org/2000/svg\" height=\"24px\"viewBox=\"0 0 24 24\"\n",
              "       width=\"24px\">\n",
              "    <path d=\"M0 0h24v24H0V0z\" fill=\"none\"/>\n",
              "    <path d=\"M18.56 5.44l.94 2.06.94-2.06 2.06-.94-2.06-.94-.94-2.06-.94 2.06-2.06.94zm-11 1L8.5 8.5l.94-2.06 2.06-.94-2.06-.94L8.5 2.5l-.94 2.06-2.06.94zm10 10l.94 2.06.94-2.06 2.06-.94-2.06-.94-.94-2.06-.94 2.06-2.06.94z\"/><path d=\"M17.41 7.96l-1.37-1.37c-.4-.4-.92-.59-1.43-.59-.52 0-1.04.2-1.43.59L10.3 9.45l-7.72 7.72c-.78.78-.78 2.05 0 2.83L4 21.41c.39.39.9.59 1.41.59.51 0 1.02-.2 1.41-.59l7.78-7.78 2.81-2.81c.8-.78.8-2.07 0-2.86zM5.41 20L4 18.59l7.72-7.72 1.47 1.35L5.41 20z\"/>\n",
              "  </svg>\n",
              "      </button>\n",
              "      \n",
              "  <style>\n",
              "    .colab-df-container {\n",
              "      display:flex;\n",
              "      flex-wrap:wrap;\n",
              "      gap: 12px;\n",
              "    }\n",
              "\n",
              "    .colab-df-convert {\n",
              "      background-color: #E8F0FE;\n",
              "      border: none;\n",
              "      border-radius: 50%;\n",
              "      cursor: pointer;\n",
              "      display: none;\n",
              "      fill: #1967D2;\n",
              "      height: 32px;\n",
              "      padding: 0 0 0 0;\n",
              "      width: 32px;\n",
              "    }\n",
              "\n",
              "    .colab-df-convert:hover {\n",
              "      background-color: #E2EBFA;\n",
              "      box-shadow: 0px 1px 2px rgba(60, 64, 67, 0.3), 0px 1px 3px 1px rgba(60, 64, 67, 0.15);\n",
              "      fill: #174EA6;\n",
              "    }\n",
              "\n",
              "    [theme=dark] .colab-df-convert {\n",
              "      background-color: #3B4455;\n",
              "      fill: #D2E3FC;\n",
              "    }\n",
              "\n",
              "    [theme=dark] .colab-df-convert:hover {\n",
              "      background-color: #434B5C;\n",
              "      box-shadow: 0px 1px 3px 1px rgba(0, 0, 0, 0.15);\n",
              "      filter: drop-shadow(0px 1px 2px rgba(0, 0, 0, 0.3));\n",
              "      fill: #FFFFFF;\n",
              "    }\n",
              "  </style>\n",
              "\n",
              "      <script>\n",
              "        const buttonEl =\n",
              "          document.querySelector('#df-7b557686-230c-4485-a6a5-f5e92246ec45 button.colab-df-convert');\n",
              "        buttonEl.style.display =\n",
              "          google.colab.kernel.accessAllowed ? 'block' : 'none';\n",
              "\n",
              "        async function convertToInteractive(key) {\n",
              "          const element = document.querySelector('#df-7b557686-230c-4485-a6a5-f5e92246ec45');\n",
              "          const dataTable =\n",
              "            await google.colab.kernel.invokeFunction('convertToInteractive',\n",
              "                                                     [key], {});\n",
              "          if (!dataTable) return;\n",
              "\n",
              "          const docLinkHtml = 'Like what you see? Visit the ' +\n",
              "            '<a target=\"_blank\" href=https://colab.research.google.com/notebooks/data_table.ipynb>data table notebook</a>'\n",
              "            + ' to learn more about interactive tables.';\n",
              "          element.innerHTML = '';\n",
              "          dataTable['output_type'] = 'display_data';\n",
              "          await google.colab.output.renderOutput(dataTable, element);\n",
              "          const docLink = document.createElement('div');\n",
              "          docLink.innerHTML = docLinkHtml;\n",
              "          element.appendChild(docLink);\n",
              "        }\n",
              "      </script>\n",
              "    </div>\n",
              "  </div>\n",
              "  "
            ]
          },
          "metadata": {},
          "execution_count": 133
        }
      ]
    },
    {
      "cell_type": "code",
      "source": [
        "df_view_cat.head()"
      ],
      "metadata": {
        "colab": {
          "base_uri": "https://localhost:8080/",
          "height": 206
        },
        "id": "HDgafG9nS1GH",
        "outputId": "7513ff0f-9afb-4a74-c0e0-992c34742678"
      },
      "execution_count": null,
      "outputs": [
        {
          "output_type": "execute_result",
          "data": {
            "text/plain": [
              "      category  num_session_view\n",
              "0  accessories               174\n",
              "1      apparel               891\n",
              "2   appliances              3390\n",
              "3         auto               550\n",
              "4    computers              1656"
            ],
            "text/html": [
              "\n",
              "  <div id=\"df-91f19aa7-51f6-416f-b8d1-3d6b014e0fd6\">\n",
              "    <div class=\"colab-df-container\">\n",
              "      <div>\n",
              "<style scoped>\n",
              "    .dataframe tbody tr th:only-of-type {\n",
              "        vertical-align: middle;\n",
              "    }\n",
              "\n",
              "    .dataframe tbody tr th {\n",
              "        vertical-align: top;\n",
              "    }\n",
              "\n",
              "    .dataframe thead th {\n",
              "        text-align: right;\n",
              "    }\n",
              "</style>\n",
              "<table border=\"1\" class=\"dataframe\">\n",
              "  <thead>\n",
              "    <tr style=\"text-align: right;\">\n",
              "      <th></th>\n",
              "      <th>category</th>\n",
              "      <th>num_session_view</th>\n",
              "    </tr>\n",
              "  </thead>\n",
              "  <tbody>\n",
              "    <tr>\n",
              "      <th>0</th>\n",
              "      <td>accessories</td>\n",
              "      <td>174</td>\n",
              "    </tr>\n",
              "    <tr>\n",
              "      <th>1</th>\n",
              "      <td>apparel</td>\n",
              "      <td>891</td>\n",
              "    </tr>\n",
              "    <tr>\n",
              "      <th>2</th>\n",
              "      <td>appliances</td>\n",
              "      <td>3390</td>\n",
              "    </tr>\n",
              "    <tr>\n",
              "      <th>3</th>\n",
              "      <td>auto</td>\n",
              "      <td>550</td>\n",
              "    </tr>\n",
              "    <tr>\n",
              "      <th>4</th>\n",
              "      <td>computers</td>\n",
              "      <td>1656</td>\n",
              "    </tr>\n",
              "  </tbody>\n",
              "</table>\n",
              "</div>\n",
              "      <button class=\"colab-df-convert\" onclick=\"convertToInteractive('df-91f19aa7-51f6-416f-b8d1-3d6b014e0fd6')\"\n",
              "              title=\"Convert this dataframe to an interactive table.\"\n",
              "              style=\"display:none;\">\n",
              "        \n",
              "  <svg xmlns=\"http://www.w3.org/2000/svg\" height=\"24px\"viewBox=\"0 0 24 24\"\n",
              "       width=\"24px\">\n",
              "    <path d=\"M0 0h24v24H0V0z\" fill=\"none\"/>\n",
              "    <path d=\"M18.56 5.44l.94 2.06.94-2.06 2.06-.94-2.06-.94-.94-2.06-.94 2.06-2.06.94zm-11 1L8.5 8.5l.94-2.06 2.06-.94-2.06-.94L8.5 2.5l-.94 2.06-2.06.94zm10 10l.94 2.06.94-2.06 2.06-.94-2.06-.94-.94-2.06-.94 2.06-2.06.94z\"/><path d=\"M17.41 7.96l-1.37-1.37c-.4-.4-.92-.59-1.43-.59-.52 0-1.04.2-1.43.59L10.3 9.45l-7.72 7.72c-.78.78-.78 2.05 0 2.83L4 21.41c.39.39.9.59 1.41.59.51 0 1.02-.2 1.41-.59l7.78-7.78 2.81-2.81c.8-.78.8-2.07 0-2.86zM5.41 20L4 18.59l7.72-7.72 1.47 1.35L5.41 20z\"/>\n",
              "  </svg>\n",
              "      </button>\n",
              "      \n",
              "  <style>\n",
              "    .colab-df-container {\n",
              "      display:flex;\n",
              "      flex-wrap:wrap;\n",
              "      gap: 12px;\n",
              "    }\n",
              "\n",
              "    .colab-df-convert {\n",
              "      background-color: #E8F0FE;\n",
              "      border: none;\n",
              "      border-radius: 50%;\n",
              "      cursor: pointer;\n",
              "      display: none;\n",
              "      fill: #1967D2;\n",
              "      height: 32px;\n",
              "      padding: 0 0 0 0;\n",
              "      width: 32px;\n",
              "    }\n",
              "\n",
              "    .colab-df-convert:hover {\n",
              "      background-color: #E2EBFA;\n",
              "      box-shadow: 0px 1px 2px rgba(60, 64, 67, 0.3), 0px 1px 3px 1px rgba(60, 64, 67, 0.15);\n",
              "      fill: #174EA6;\n",
              "    }\n",
              "\n",
              "    [theme=dark] .colab-df-convert {\n",
              "      background-color: #3B4455;\n",
              "      fill: #D2E3FC;\n",
              "    }\n",
              "\n",
              "    [theme=dark] .colab-df-convert:hover {\n",
              "      background-color: #434B5C;\n",
              "      box-shadow: 0px 1px 3px 1px rgba(0, 0, 0, 0.15);\n",
              "      filter: drop-shadow(0px 1px 2px rgba(0, 0, 0, 0.3));\n",
              "      fill: #FFFFFF;\n",
              "    }\n",
              "  </style>\n",
              "\n",
              "      <script>\n",
              "        const buttonEl =\n",
              "          document.querySelector('#df-91f19aa7-51f6-416f-b8d1-3d6b014e0fd6 button.colab-df-convert');\n",
              "        buttonEl.style.display =\n",
              "          google.colab.kernel.accessAllowed ? 'block' : 'none';\n",
              "\n",
              "        async function convertToInteractive(key) {\n",
              "          const element = document.querySelector('#df-91f19aa7-51f6-416f-b8d1-3d6b014e0fd6');\n",
              "          const dataTable =\n",
              "            await google.colab.kernel.invokeFunction('convertToInteractive',\n",
              "                                                     [key], {});\n",
              "          if (!dataTable) return;\n",
              "\n",
              "          const docLinkHtml = 'Like what you see? Visit the ' +\n",
              "            '<a target=\"_blank\" href=https://colab.research.google.com/notebooks/data_table.ipynb>data table notebook</a>'\n",
              "            + ' to learn more about interactive tables.';\n",
              "          element.innerHTML = '';\n",
              "          dataTable['output_type'] = 'display_data';\n",
              "          await google.colab.output.renderOutput(dataTable, element);\n",
              "          const docLink = document.createElement('div');\n",
              "          docLink.innerHTML = docLinkHtml;\n",
              "          element.appendChild(docLink);\n",
              "        }\n",
              "      </script>\n",
              "    </div>\n",
              "  </div>\n",
              "  "
            ]
          },
          "metadata": {},
          "execution_count": 134
        }
      ]
    },
    {
      "cell_type": "code",
      "source": [
        "df_merge_cat.head()"
      ],
      "metadata": {
        "colab": {
          "base_uri": "https://localhost:8080/",
          "height": 206
        },
        "id": "FQ12AKiNS1Jx",
        "outputId": "6449aefc-38df-4970-a024-b564349f6c4c"
      },
      "execution_count": null,
      "outputs": [
        {
          "output_type": "execute_result",
          "data": {
            "text/plain": [
              "       category  num_session_purchase  num_session_view  conversion_rate\n",
              "0       apparel                     6               891         0.006734\n",
              "1    appliances                    63              3390         0.018584\n",
              "2          auto                     5               550         0.009091\n",
              "3     computers                    14              1656         0.008454\n",
              "4  construction                     4               407         0.009828"
            ],
            "text/html": [
              "\n",
              "  <div id=\"df-4eed1748-d89b-4ca9-9efa-1731f601e95e\">\n",
              "    <div class=\"colab-df-container\">\n",
              "      <div>\n",
              "<style scoped>\n",
              "    .dataframe tbody tr th:only-of-type {\n",
              "        vertical-align: middle;\n",
              "    }\n",
              "\n",
              "    .dataframe tbody tr th {\n",
              "        vertical-align: top;\n",
              "    }\n",
              "\n",
              "    .dataframe thead th {\n",
              "        text-align: right;\n",
              "    }\n",
              "</style>\n",
              "<table border=\"1\" class=\"dataframe\">\n",
              "  <thead>\n",
              "    <tr style=\"text-align: right;\">\n",
              "      <th></th>\n",
              "      <th>category</th>\n",
              "      <th>num_session_purchase</th>\n",
              "      <th>num_session_view</th>\n",
              "      <th>conversion_rate</th>\n",
              "    </tr>\n",
              "  </thead>\n",
              "  <tbody>\n",
              "    <tr>\n",
              "      <th>0</th>\n",
              "      <td>apparel</td>\n",
              "      <td>6</td>\n",
              "      <td>891</td>\n",
              "      <td>0.006734</td>\n",
              "    </tr>\n",
              "    <tr>\n",
              "      <th>1</th>\n",
              "      <td>appliances</td>\n",
              "      <td>63</td>\n",
              "      <td>3390</td>\n",
              "      <td>0.018584</td>\n",
              "    </tr>\n",
              "    <tr>\n",
              "      <th>2</th>\n",
              "      <td>auto</td>\n",
              "      <td>5</td>\n",
              "      <td>550</td>\n",
              "      <td>0.009091</td>\n",
              "    </tr>\n",
              "    <tr>\n",
              "      <th>3</th>\n",
              "      <td>computers</td>\n",
              "      <td>14</td>\n",
              "      <td>1656</td>\n",
              "      <td>0.008454</td>\n",
              "    </tr>\n",
              "    <tr>\n",
              "      <th>4</th>\n",
              "      <td>construction</td>\n",
              "      <td>4</td>\n",
              "      <td>407</td>\n",
              "      <td>0.009828</td>\n",
              "    </tr>\n",
              "  </tbody>\n",
              "</table>\n",
              "</div>\n",
              "      <button class=\"colab-df-convert\" onclick=\"convertToInteractive('df-4eed1748-d89b-4ca9-9efa-1731f601e95e')\"\n",
              "              title=\"Convert this dataframe to an interactive table.\"\n",
              "              style=\"display:none;\">\n",
              "        \n",
              "  <svg xmlns=\"http://www.w3.org/2000/svg\" height=\"24px\"viewBox=\"0 0 24 24\"\n",
              "       width=\"24px\">\n",
              "    <path d=\"M0 0h24v24H0V0z\" fill=\"none\"/>\n",
              "    <path d=\"M18.56 5.44l.94 2.06.94-2.06 2.06-.94-2.06-.94-.94-2.06-.94 2.06-2.06.94zm-11 1L8.5 8.5l.94-2.06 2.06-.94-2.06-.94L8.5 2.5l-.94 2.06-2.06.94zm10 10l.94 2.06.94-2.06 2.06-.94-2.06-.94-.94-2.06-.94 2.06-2.06.94z\"/><path d=\"M17.41 7.96l-1.37-1.37c-.4-.4-.92-.59-1.43-.59-.52 0-1.04.2-1.43.59L10.3 9.45l-7.72 7.72c-.78.78-.78 2.05 0 2.83L4 21.41c.39.39.9.59 1.41.59.51 0 1.02-.2 1.41-.59l7.78-7.78 2.81-2.81c.8-.78.8-2.07 0-2.86zM5.41 20L4 18.59l7.72-7.72 1.47 1.35L5.41 20z\"/>\n",
              "  </svg>\n",
              "      </button>\n",
              "      \n",
              "  <style>\n",
              "    .colab-df-container {\n",
              "      display:flex;\n",
              "      flex-wrap:wrap;\n",
              "      gap: 12px;\n",
              "    }\n",
              "\n",
              "    .colab-df-convert {\n",
              "      background-color: #E8F0FE;\n",
              "      border: none;\n",
              "      border-radius: 50%;\n",
              "      cursor: pointer;\n",
              "      display: none;\n",
              "      fill: #1967D2;\n",
              "      height: 32px;\n",
              "      padding: 0 0 0 0;\n",
              "      width: 32px;\n",
              "    }\n",
              "\n",
              "    .colab-df-convert:hover {\n",
              "      background-color: #E2EBFA;\n",
              "      box-shadow: 0px 1px 2px rgba(60, 64, 67, 0.3), 0px 1px 3px 1px rgba(60, 64, 67, 0.15);\n",
              "      fill: #174EA6;\n",
              "    }\n",
              "\n",
              "    [theme=dark] .colab-df-convert {\n",
              "      background-color: #3B4455;\n",
              "      fill: #D2E3FC;\n",
              "    }\n",
              "\n",
              "    [theme=dark] .colab-df-convert:hover {\n",
              "      background-color: #434B5C;\n",
              "      box-shadow: 0px 1px 3px 1px rgba(0, 0, 0, 0.15);\n",
              "      filter: drop-shadow(0px 1px 2px rgba(0, 0, 0, 0.3));\n",
              "      fill: #FFFFFF;\n",
              "    }\n",
              "  </style>\n",
              "\n",
              "      <script>\n",
              "        const buttonEl =\n",
              "          document.querySelector('#df-4eed1748-d89b-4ca9-9efa-1731f601e95e button.colab-df-convert');\n",
              "        buttonEl.style.display =\n",
              "          google.colab.kernel.accessAllowed ? 'block' : 'none';\n",
              "\n",
              "        async function convertToInteractive(key) {\n",
              "          const element = document.querySelector('#df-4eed1748-d89b-4ca9-9efa-1731f601e95e');\n",
              "          const dataTable =\n",
              "            await google.colab.kernel.invokeFunction('convertToInteractive',\n",
              "                                                     [key], {});\n",
              "          if (!dataTable) return;\n",
              "\n",
              "          const docLinkHtml = 'Like what you see? Visit the ' +\n",
              "            '<a target=\"_blank\" href=https://colab.research.google.com/notebooks/data_table.ipynb>data table notebook</a>'\n",
              "            + ' to learn more about interactive tables.';\n",
              "          element.innerHTML = '';\n",
              "          dataTable['output_type'] = 'display_data';\n",
              "          await google.colab.output.renderOutput(dataTable, element);\n",
              "          const docLink = document.createElement('div');\n",
              "          docLink.innerHTML = docLinkHtml;\n",
              "          element.appendChild(docLink);\n",
              "        }\n",
              "      </script>\n",
              "    </div>\n",
              "  </div>\n",
              "  "
            ]
          },
          "metadata": {},
          "execution_count": 135
        }
      ]
    },
    {
      "cell_type": "code",
      "source": [
        "plt.barh(df_merge_cat['category'], df_merge_cat['conversion_rate'])"
      ],
      "metadata": {
        "colab": {
          "base_uri": "https://localhost:8080/",
          "height": 282
        },
        "id": "wzeyFc429hnx",
        "outputId": "7e6f73c0-c00e-4387-9b0f-21550b0ea79b"
      },
      "execution_count": null,
      "outputs": [
        {
          "output_type": "execute_result",
          "data": {
            "text/plain": [
              "<BarContainer object of 9 artists>"
            ]
          },
          "metadata": {},
          "execution_count": 136
        },
        {
          "output_type": "display_data",
          "data": {
            "text/plain": [
              "<Figure size 432x288 with 1 Axes>"
            ],
            "image/png": "[encoded data removed]"
          },
          "metadata": {
            "needs_background": "light"
          }
        }
      ]
    },
    {
      "cell_type": "code",
      "source": [
        "# cara lain\n",
        "fig, ax = plt.subplots(figsize=(10, 5)) \n",
        "ax.barh(df_merge_cat['category'], df_merge_cat['conversion_rate'])  \n",
        "\n",
        "\n",
        "ax.set_xlabel('event_date')  \n",
        "ax.set_ylabel('conversion_rate')  \n",
        "ax.set_title(\"Category conversion rate\") "
      ],
      "metadata": {
        "colab": {
          "base_uri": "https://localhost:8080/",
          "height": 368
        },
        "id": "LjKbfS7_ieAO",
        "outputId": "3233b0d3-0d8e-4b8f-be8d-225045998ca9"
      },
      "execution_count": null,
      "outputs": [
        {
          "output_type": "execute_result",
          "data": {
            "text/plain": [
              "Text(0.5, 1.0, 'Category conversion rate')"
            ]
          },
          "metadata": {},
          "execution_count": 87
        },
        {
          "output_type": "display_data",
          "data": {
            "text/plain": [
              "<Figure size 720x360 with 1 Axes>"
            ],
            "image/png": "[encoded data removed]"
          },
          "metadata": {
            "needs_background": "light"
          }
        }
      ]
    },
    {
      "cell_type": "markdown",
      "source": [
        "#### No10 ![image.png](data:image/png;base64,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)"
      ],
      "metadata": {
        "id": "kxLaVz1JjDGW"
      }
    },
    {
      "cell_type": "code",
      "source": [
        "df_purchase_brand =df_ecomm.loc[(df_ecomm['subcategory'] == 'smartphone') & (df_ecomm['event_type'] == 'purchase')].groupby('brand', as_index = False).agg(num_session_purchase = ('user_session', 'nunique')\n",
        ")\n",
        "\n",
        "df_view_brand =df_ecomm.loc[(df_ecomm['subcategory'] == 'smartphone') & (df_ecomm['event_type'] == 'view')].groupby('brand', as_index = False).agg(num_session_view = ('user_session', 'nunique')\n",
        ")\n",
        "\n",
        "df_merge_brand = pd.merge(df_purchase_brand, df_view_brand,  how = 'inner', on= 'brand').sort_values('brand')\n",
        "\n",
        "df_merge_brand['conversion_rate'] = df_merge_brand['num_session_purchase']/df_merge_brand['num_session_view']"
      ],
      "metadata": {
        "id": "4etxk9Lcir7v"
      },
      "execution_count": null,
      "outputs": []
    },
    {
      "cell_type": "code",
      "source": [
        "plt.barh(df_merge_brand['brand'], df_merge_brand['conversion_rate'])"
      ],
      "metadata": {
        "colab": {
          "base_uri": "https://localhost:8080/",
          "height": 282
        },
        "id": "44RCp3BPTqJi",
        "outputId": "1cd14c09-f7ed-49ec-a383-e9ff77c8fd6a"
      },
      "execution_count": null,
      "outputs": [
        {
          "output_type": "execute_result",
          "data": {
            "text/plain": [
              "<BarContainer object of 10 artists>"
            ]
          },
          "metadata": {},
          "execution_count": 138
        },
        {
          "output_type": "display_data",
          "data": {
            "text/plain": [
              "<Figure size 432x288 with 1 Axes>"
            ],
            "image/png": "[encoded data removed]"
          },
          "metadata": {
            "needs_background": "light"
          }
        }
      ]
    },
    {
      "cell_type": "code",
      "source": [
        "# cara lain\n",
        "fig, ax = plt.subplots(figsize=(10, 5)) \n",
        "ax.barh(df_merge_brand['brand'], df_merge_brand['conversion_rate'])  \n",
        "\n",
        "\n",
        "ax.set_xlabel('event_date')  \n",
        "ax.set_ylabel('conversion_rate')  \n",
        "ax.set_title(\"Brand conversion rate\") "
      ],
      "metadata": {
        "colab": {
          "base_uri": "https://localhost:8080/",
          "height": 368
        },
        "id": "RFkjBWMHjsSS",
        "outputId": "441830c0-aa8a-407a-daec-f0f4a85125a3"
      },
      "execution_count": null,
      "outputs": [
        {
          "output_type": "execute_result",
          "data": {
            "text/plain": [
              "Text(0.5, 1.0, 'Brand conversion rate')"
            ]
          },
          "metadata": {},
          "execution_count": 89
        },
        {
          "output_type": "display_data",
          "data": {
            "text/plain": [
              "<Figure size 720x360 with 1 Axes>"
            ],
            "image/png": "[encoded data removed]"
          },
          "metadata": {
            "needs_background": "light"
          }
        }
      ]
    },
    {
      "cell_type": "code",
      "source": [
        ""
      ],
      "metadata": {
        "id": "aStnv3B1jy82"
      },
      "execution_count": null,
      "outputs": []
    }
  ]
}